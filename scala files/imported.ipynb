{
 "cells": [
  {
   "cell_type": "code",
   "execution_count": null,
   "metadata": {},
   "outputs": [],
   "source": [
    "// importation de modules scala spark\n",
    "import org.apache.spark.sql.types.{ArrayType , StructType , StructField , IntegerType , FloatType , Stringtype , \n",
    "                                  DoubleType , BooleanType , LongTytpe}\n"
   ]
  },
  {
   "cell_type": "code",
   "execution_count": 26,
   "metadata": {},
   "outputs": [
    {
     "data": {
      "text/plain": [
       "\u001b[32mimport \u001b[36mscala.collection.JavaConversions._\u001b[0m\n",
       "defined \u001b[32mfunction \u001b[36mgetFileTree\u001b[0m"
      ]
     },
     "metadata": {},
     "output_type": "display_data"
    }
   ],
   "source": [
    "import scala.collection.JavaConversions._\n",
    "\n",
    "def getFileTree(f: File): Stream[File] =\n",
    "        f #:: (if (f.isDirectory) f.listFiles().toStream.flatMap(getFileTree) \n",
    "               else Stream.empty)"
   ]
  },
  {
   "cell_type": "code",
   "execution_count": 34,
   "metadata": {},
   "outputs": [
    {
     "name": "stdout",
     "output_type": "stream",
     "text": [
      "data\\dataset_iris.txt\n",
      "data\\example.txt\n"
     ]
    },
    {
     "data": {
      "text/plain": [
       "\u001b[36mextension\u001b[0m: \u001b[32mString\u001b[0m = \u001b[32m\".txt\"\u001b[0m"
      ]
     },
     "metadata": {},
     "output_type": "display_data"
    }
   ],
   "source": [
    "val extension : String = \".TXT\".toLowerCase\n",
    "getFileTree(new File(\"data/\")).filter(_.getName.endsWith(extension)).foreach(println)"
   ]
  },
  {
   "cell_type": "code",
   "execution_count": 13,
   "metadata": {},
   "outputs": [
    {
     "data": {
      "text/plain": [
       "defined \u001b[32mfunction \u001b[36mlist_of_values\u001b[0m"
      ]
     },
     "metadata": {},
     "output_type": "display_data"
    }
   ],
   "source": [
    "// fonction de nb repetitions d un element (methode de duplication)\n",
    "def list_of_values(nb : Int , element : Any) : List[String] = {\n",
    "    var liste = List.fill(nb)(element.toString)\n",
    "    return liste\n",
    "}"
   ]
  },
  {
   "cell_type": "code",
   "execution_count": 57,
   "metadata": {},
   "outputs": [
    {
     "ename": "",
     "evalue": "",
     "output_type": "error",
     "traceback": [
      "Compilation Failed",
      "\u001b[31mMain.scala:172: not found: value list_of_values\r",
      "list_of_values(random_integer  , \"scala\") \r",
      "^\u001b[0m"
     ]
    }
   ],
   "source": [
    "// generation aleatoire de type (test fonctionnement de la methode de duplication \"list_of_values\")\n",
    "val random_type = scala.util.Random    \n",
    "val random_integer = random_type.nextInt(7)\n",
    "val reslt = list_of_values(random_integer  , \"scala\")\n",
    "println(reslt.getClass)"
   ]
  },
  {
   "cell_type": "code",
   "execution_count": 16,
   "metadata": {},
   "outputs": [
    {
     "data": {
      "text/plain": [
       "defined \u001b[32mfunction \u001b[36mdefine_struc_type\u001b[0m"
      ]
     },
     "metadata": {},
     "output_type": "display_data"
    }
   ],
   "source": [
    "// redefinition du type d une colonne si le type est passé en paramétre\n",
    "def define_struc_type(type_of_mapping : String) : Any = type_of_mapping match {\n",
    "    case \"string\"  =>  \"type1\"\n",
    "    case \"float\"  =>  \"type2\"\n",
    "    case \"integer\"  => \"type3\"\n",
    "    case \"boolean\"  => \"type4\"\n",
    "    case \"long\" => \"type4\" \n",
    "}"
   ]
  },
  {
   "cell_type": "code",
   "execution_count": 17,
   "metadata": {},
   "outputs": [
    {
     "data": {
      "text/plain": [
       "\u001b[36mreslt_define_struc_type\u001b[0m: \u001b[32mAny\u001b[0m = type1"
      ]
     },
     "metadata": {},
     "output_type": "display_data"
    }
   ],
   "source": [
    "val reslt_define_struc_type = define_struc_type(\"string\")"
   ]
  },
  {
   "cell_type": "code",
   "execution_count": 68,
   "metadata": {},
   "outputs": [
    {
     "data": {
      "text/plain": [
       "defined \u001b[32mfunction \u001b[36mfiles_extensions_searched\u001b[0m"
      ]
     },
     "metadata": {},
     "output_type": "display_data"
    }
   ],
   "source": [
    "// methode de filtrage sur une extension en parametres\n",
    "def files_extensions_searched(list_extensions : List[String] , extension_searched : String) : List[String] = {\n",
    "    val files_extended = list_extensions.filter(x => x.split('.')(1) == extension_searched)\n",
    "    return files_extended  \n",
    "}"
   ]
  },
  {
   "cell_type": "code",
   "execution_count": 76,
   "metadata": {},
   "outputs": [
    {
     "data": {
      "text/plain": [
       "\u001b[36mall_files\u001b[0m: \u001b[32mStream\u001b[0m[\u001b[32mFile\u001b[0m] = \u001b[33mStream\u001b[0m(\n",
       "  data,\n",
       "  data\\.ipynb_checkpoints,\n",
       "  data\\dataset_iris.txt,\n",
       "  data\\example.txt,\n",
       "  data\\iris_csv_file.csv,\n",
       "  data\\part1.avro,\n",
       "  data\\part2.avro,\n",
       "  data\\part3.avro\n",
       ")\n",
       "\u001b[36mall_files_string\u001b[0m: \u001b[32mList\u001b[0m[\u001b[32mString\u001b[0m] = \u001b[33mList\u001b[0m(\n",
       "  \u001b[32m\"data\"\u001b[0m,\n",
       "  \u001b[32m\"\"\"\n",
       "data\\.ipynb_checkpoints\n",
       "  \"\"\"\u001b[0m,\n",
       "  \u001b[32m\"\"\"\n",
       "data\\dataset_iris.txt\n",
       "  \"\"\"\u001b[0m,\n",
       "  \u001b[32m\"\"\"\n",
       "data\\example.txt\n",
       "  \"\"\"\u001b[0m,\n",
       "  \u001b[32m\"\"\"\n",
       "data\\iris_csv_file.csv\n",
       "  \"\"\"\u001b[0m,\n",
       "  \u001b[32m\"\"\"\n",
       "\u001b[33m...\u001b[0m"
      ]
     },
     "metadata": {},
     "output_type": "display_data"
    }
   ],
   "source": [
    "// test de la fonction filtrage des extensions\n",
    "\n",
    "val list_files_extensions = List(\"part1.avro\" , \"part2.avro\" , \"part3.avro\", \"part1.csv\" , \"part1.txt\")\n",
    "// files_extensions_searched(all_files , \"avro\")"
   ]
  },
  {
   "cell_type": "code",
   "execution_count": 86,
   "metadata": {},
   "outputs": [
    {
     "data": {
      "text/plain": [
       "\u001b[36mall_files\u001b[0m: \u001b[32mStream\u001b[0m[\u001b[32mFile\u001b[0m] = \u001b[33mStream\u001b[0m(\n",
       "  data,\n",
       "  data\\.ipynb_checkpoints,\n",
       "  data\\dataset_iris.txt,\n",
       "  data\\example.txt,\n",
       "  data\\iris_csv_file.csv,\n",
       "  data\\part1.avro,\n",
       "  data\\part2.avro,\n",
       "  data\\part3.avro\n",
       ")\n",
       "\u001b[36mreslt\u001b[0m: \u001b[32mList\u001b[0m[\u001b[32mFile\u001b[0m] = \u001b[33mList\u001b[0m(\n",
       "  data,\n",
       "  data\\.ipynb_checkpoints,\n",
       "  data\\dataset_iris.txt,\n",
       "  data\\example.txt,\n",
       "  data\\iris_csv_file.csv,\n",
       "  data\\part1.avro,\n",
       "  data\\part2.avro,\n",
       "  data\\part3.avro\n",
       ")"
      ]
     },
     "metadata": {},
     "output_type": "display_data"
    }
   ],
   "source": [
    "val all_files : Stream[File] = getFileTree(new File(\"data/\"))\n",
    "// val reslt = all_files.toList"
   ]
  },
  {
   "cell_type": "code",
   "execution_count": 79,
   "metadata": {},
   "outputs": [
    {
     "data": {
      "text/plain": [
       "defined \u001b[32mfunction \u001b[36mget_last_available_file\u001b[0m"
      ]
     },
     "metadata": {},
     "output_type": "display_data"
    }
   ],
   "source": [
    "def get_last_available_file(set_files : Stream[File] , extension : String) : File = {\n",
    "    val files_extended = set_files.filter(_.getName.endsWith(extension))\n",
    "    val last_files_extensions_searched = files_extended.toList.last\n",
    "    return last_files_extensions_searched\n",
    "}"
   ]
  },
  {
   "cell_type": "code",
   "execution_count": 80,
   "metadata": {},
   "outputs": [
    {
     "data": {
      "text/plain": [
       "\u001b[36mreslt_get_last_available_file\u001b[0m: \u001b[32mFile\u001b[0m = data\\part3.avro"
      ]
     },
     "metadata": {},
     "output_type": "display_data"
    }
   ],
   "source": [
    "val reslt_get_last_available_file : File = get_last_available_file(all_files , \".avro\")"
   ]
  },
  {
   "cell_type": "code",
   "execution_count": 92,
   "metadata": {},
   "outputs": [
    {
     "data": {
      "text/plain": [
       "\u001b[32mimport \u001b[36mscala.collection.immutable._\u001b[0m\n",
       "\u001b[36mset_first\u001b[0m: \u001b[32mSet\u001b[0m[\u001b[32mInt\u001b[0m] = \u001b[33mSet\u001b[0m(\u001b[32m1\u001b[0m, \u001b[32m2\u001b[0m)"
      ]
     },
     "metadata": {},
     "output_type": "display_data"
    }
   ],
   "source": [
    "import scala.collection.immutable._\n",
    "val set_first : Set[Int] = Set(1,2,2)\n"
   ]
  },
  {
   "cell_type": "code",
   "execution_count": 93,
   "metadata": {},
   "outputs": [
    {
     "data": {
      "text/plain": [
       "\u001b[36mlist\u001b[0m: \u001b[32mList\u001b[0m[\u001b[32mInt\u001b[0m] = \u001b[33mList\u001b[0m(\n",
       "  \u001b[32m1\u001b[0m,\n",
       "  \u001b[32m2\u001b[0m,\n",
       "  \u001b[32m4\u001b[0m,\n",
       "  \u001b[32m2\u001b[0m,\n",
       "  \u001b[32m4\u001b[0m,\n",
       "  \u001b[32m7\u001b[0m,\n",
       "  \u001b[32m3\u001b[0m,\n",
       "  \u001b[32m2\u001b[0m,\n",
       "  \u001b[32m4\u001b[0m\n",
       ")"
      ]
     },
     "metadata": {},
     "output_type": "display_data"
    }
   ],
   "source": [
    "val list = List(1,2,4,2,4,7,3,2,4)"
   ]
  },
  {
   "cell_type": "code",
   "execution_count": 96,
   "metadata": {},
   "outputs": [
    {
     "data": {
      "text/plain": [
       "\u001b[36mres58\u001b[0m: \u001b[32mList\u001b[0m[(\u001b[32mInt\u001b[0m, \u001b[32mInt\u001b[0m)] = \u001b[33mList\u001b[0m(\n",
       "  \u001b[33m\u001b[0m(\u001b[32m1\u001b[0m, \u001b[32m1\u001b[0m),\n",
       "  \u001b[33m\u001b[0m(\u001b[32m2\u001b[0m, \u001b[32m3\u001b[0m),\n",
       "  \u001b[33m\u001b[0m(\u001b[32m4\u001b[0m, \u001b[32m3\u001b[0m),\n",
       "  \u001b[33m\u001b[0m(\u001b[32m2\u001b[0m, \u001b[32m3\u001b[0m),\n",
       "  \u001b[33m\u001b[0m(\u001b[32m4\u001b[0m, \u001b[32m3\u001b[0m),\n",
       "  \u001b[33m\u001b[0m(\u001b[32m7\u001b[0m, \u001b[32m1\u001b[0m),\n",
       "  \u001b[33m\u001b[0m(\u001b[32m3\u001b[0m, \u001b[32m1\u001b[0m),\n",
       "  \u001b[33m\u001b[0m(\u001b[32m2\u001b[0m, \u001b[32m3\u001b[0m),\n",
       "  \u001b[33m\u001b[0m(\u001b[32m4\u001b[0m, \u001b[32m3\u001b[0m)\n",
       ")"
      ]
     },
     "metadata": {},
     "output_type": "display_data"
    }
   ],
   "source": [
    "list.map(x => (x, list.count(_ == x)))"
   ]
  },
  {
   "cell_type": "code",
   "execution_count": 98,
   "metadata": {},
   "outputs": [
    {
     "data": {
      "text/plain": [
       "\u001b[36mres60\u001b[0m: \u001b[32mMap\u001b[0m[\u001b[32mInt\u001b[0m, \u001b[32mInt\u001b[0m] = \u001b[33mMap\u001b[0m(\n",
       "  \u001b[32m1\u001b[0m -> \u001b[32m1\u001b[0m,\n",
       "  \u001b[32m2\u001b[0m -> \u001b[32m3\u001b[0m,\n",
       "  \u001b[32m7\u001b[0m -> \u001b[32m1\u001b[0m,\n",
       "  \u001b[32m3\u001b[0m -> \u001b[32m1\u001b[0m,\n",
       "  \u001b[32m4\u001b[0m -> \u001b[32m3\u001b[0m\n",
       ")"
      ]
     },
     "metadata": {},
     "output_type": "display_data"
    }
   ],
   "source": [
    "list.groupBy(i=>i).mapValues(_.size)"
   ]
  },
  {
   "cell_type": "code",
   "execution_count": null,
   "metadata": {},
   "outputs": [],
   "source": []
  }
 ],
 "metadata": {
  "kernelspec": {
   "display_name": "Scala 2.11",
   "language": "scala211",
   "name": "scala211"
  },
  "language_info": {
   "codemirror_mode": "text/x-scala",
   "file_extension": ".scala",
   "mimetype": "text/x-scala",
   "name": "scala211",
   "pygments_lexer": "scala",
   "version": "2.11.6"
  }
 },
 "nbformat": 4,
 "nbformat_minor": 2
}
