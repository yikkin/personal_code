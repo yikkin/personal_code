{
 "cells": [
  {
   "cell_type": "code",
   "execution_count": 1,
   "metadata": {
    "collapsed": true
   },
   "outputs": [],
   "source": [
    "from IPython.display import Latex"
   ]
  },
  {
   "cell_type": "markdown",
   "metadata": {},
   "source": [
    "## Module de definition de classes"
   ]
  },
  {
   "cell_type": "markdown",
   "metadata": {},
   "source": [
    "Ce module a pour objectif de construire des classes du dataset en vue de les rendre accessible dans un notebook à noyau Python ou dans une session de Python localement"
   ]
  },
  {
   "cell_type": "code",
   "execution_count": 2,
   "metadata": {
    "collapsed": true
   },
   "outputs": [],
   "source": [
    "#importation de modules\n",
    "import re #module des expressions régulières pour le passage des urls dans le notebook"
   ]
  },
  {
   "cell_type": "markdown",
   "metadata": {},
   "source": [
    "Lire data/README pour plus d'inforamtion sur le détail du pourquoi des classes [voir contenu des diffèrents fichiers]"
   ]
  },
  {
   "cell_type": "markdown",
   "metadata": {},
   "source": [
    "#### Définition de la classe de l'utilisateur\n",
    "Pour l'utilisateur il a été récupéré l'identifiant , le sexe , l'occupation et un un zip_code (région de résidence)"
   ]
  },
  {
   "cell_type": "code",
   "execution_count": 3,
   "metadata": {
    "collapsed": true
   },
   "outputs": [],
   "source": [
    "class User:\n",
    "    def __init__(self, id, age, sex, occupation, zip):\n",
    "        self.id = int(id)\n",
    "        self.age = int(age)\n",
    "        self.sex = sex\n",
    "        self.occupation = occupation\n",
    "        self.zip = zip\n",
    "        self.avg_r = 0.0\n"
   ]
  },
  {
   "cell_type": "markdown",
   "metadata": {},
   "source": [
    "#### Définition de la classe film [movie /item]"
   ]
  },
  {
   "cell_type": "code",
   "execution_count": 4,
   "metadata": {
    "collapsed": true
   },
   "outputs": [],
   "source": [
    "class Item:\n",
    "    def __init__(self, id, title, release_date, video_release_date, imdb_url,\\\n",
    "    unknown, action, adventure, animation, childrens, comedy, crime, documentary,\\\n",
    "    drama, fantasy, film_noir, horror, musical, mystery ,romance, sci_fi, thriller, war, western):\n",
    "        self.id = int(id)\n",
    "        self.title = title\n",
    "        self.release_date = release_date\n",
    "        self.video_release_date = video_release_date\n",
    "        self.imdb_url = imdb_url\n",
    "        self.unknown = int(unknown)\n",
    "        self.action = int(action)\n",
    "        self.adventure = int(adventure)\n",
    "        self.animation = int(animation)\n",
    "        self.childrens = int(childrens)\n",
    "        self.comedy = int(comedy)\n",
    "        self.crime = int(crime)\n",
    "        self.documentary = int(documentary)\n",
    "        self.drama = int(drama)\n",
    "        self.fantasy = int(fantasy)\n",
    "        self.film_noir = int(film_noir)\n",
    "        self.horror = int(horror)\n",
    "        self.musical = int(musical)\n",
    "        self.mystery = int(mystery)\n",
    "        self.romance = int(romance)\n",
    "        self.sci_fi = int(sci_fi)\n",
    "        self.thriller = int(thriller)\n",
    "        self.war = int(war)\n",
    "        self.western = int(western)\n",
    "\n"
   ]
  },
  {
   "cell_type": "markdown",
   "metadata": {},
   "source": [
    "#### Définition de la classe rating (notation des items)\n",
    "Pour le fichier des notes nous avons l'identifiant utilisateur , du film noté et sa note "
   ]
  },
  {
   "cell_type": "code",
   "execution_count": 5,
   "metadata": {
    "collapsed": true
   },
   "outputs": [],
   "source": [
    "class Rating:\n",
    "    def __init__(self, user_id, item_id, rating, time):\n",
    "        self.user_id = int(user_id)\n",
    "        self.item_id = int(item_id)\n",
    "        self.rating = int(rating)\n",
    "        self.time = time\n"
   ]
  },
  {
   "cell_type": "markdown",
   "metadata": {},
   "source": [
    "#### Définition de la classe des structures de fichiers pour une importation parsée\n",
    "Cette classe sert à parser les fichiers \"u.some_name\" en fonction des informations contenu ; une fois qu'on cherchera à les ouvrir"
   ]
  },
  {
   "cell_type": "code",
   "execution_count": 6,
   "metadata": {
    "collapsed": false
   },
   "outputs": [],
   "source": [
    "\n",
    "class Dataset:\n",
    "    def load_users(self, file, u):\n",
    "        f = open(file, \"r\")\n",
    "        text = f.read()\n",
    "        entries = re.split(\"\\n+\", text)\n",
    "        for entry in entries:\n",
    "            e = entry.split('|', 5)\n",
    "            if len(e) == 5:\n",
    "                u.append(User(e[0], e[1], e[2], e[3], e[4]))\n",
    "        f.close()\n",
    "\n",
    "    def load_items(self, file, i):\n",
    "        f = open(file, \"r\")\n",
    "        text = f.read()\n",
    "        entries = re.split(\"\\n+\", text)\n",
    "        for entry in entries:\n",
    "            e = entry.split('|', 24)\n",
    "            if len(e) == 24:\n",
    "                i.append(Item(e[0], e[1], e[2], e[3], e[4], e[5], e[6], e[7], e[8], e[9], e[10], \\\n",
    "                e[11], e[12], e[13], e[14], e[15], e[16], e[17], e[18], e[19], e[20], e[21], \\\n",
    "                e[22], e[23]))\n",
    "        f.close()\n",
    "\n",
    "    def load_ratings(self, file, r):\n",
    "        f = open(file, \"r\")\n",
    "        text = f.read()\n",
    "        entries = re.split(\"\\n+\", text)\n",
    "        for entry in entries:\n",
    "            e = entry.split('\\t', 4)\n",
    "            if len(e) == 4:\n",
    "                r.append(Rating(e[0], e[1], e[2], e[3]))\n",
    "        f.close()"
   ]
  }
 ],
 "metadata": {
  "anaconda-cloud": {},
  "kernelspec": {
   "display_name": "Python [conda root]",
   "language": "python",
   "name": "conda-root-py"
  },
  "language_info": {
   "codemirror_mode": {
    "name": "ipython",
    "version": 3
   },
   "file_extension": ".py",
   "mimetype": "text/x-python",
   "name": "python",
   "nbconvert_exporter": "python",
   "pygments_lexer": "ipython3",
   "version": "3.5.2"
  }
 },
 "nbformat": 4,
 "nbformat_minor": 1
}
