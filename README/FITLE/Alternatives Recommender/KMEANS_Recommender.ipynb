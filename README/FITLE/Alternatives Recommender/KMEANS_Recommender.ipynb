{
 "cells": [
  {
   "cell_type": "code",
   "execution_count": 77,
   "metadata": {
    "collapsed": false
   },
   "outputs": [],
   "source": [
    "%run load_preprocessing.ipynb"
   ]
  },
  {
   "cell_type": "markdown",
   "metadata": {
    "collapsed": true
   },
   "source": [
    "Importation de la méthode d apprentissage non supervisée"
   ]
  },
  {
   "cell_type": "code",
   "execution_count": 54,
   "metadata": {
    "collapsed": false
   },
   "outputs": [],
   "source": [
    "from sklearn.cluster import KMeans\n",
    "from sklearn import metrics\n",
    "from sklearn import cluster "
   ]
  },
  {
   "cell_type": "markdown",
   "metadata": {},
   "source": [
    "Clustering des items [regroupement]"
   ]
  },
  {
   "cell_type": "code",
   "execution_count": 55,
   "metadata": {
    "collapsed": false
   },
   "outputs": [
    {
     "data": {
      "text/plain": [
       "array([ 8,  1, 10, ...,  2,  6,  4])"
      ]
     },
     "execution_count": 55,
     "metadata": {},
     "output_type": "execute_result"
    }
   ],
   "source": [
    "kmeans = KMeans(n_clusters=19)\n",
    "kmeans.fit_predict(movie_genre)"
   ]
  },
  {
   "cell_type": "code",
   "execution_count": 56,
   "metadata": {
    "collapsed": false
   },
   "outputs": [],
   "source": [
    "utility_matrix_clustered = []\n",
    "for i in range(0, n_users):\n",
    "    average = np.zeros(19)\n",
    "    tmp = []\n",
    "    for index in range(0, 19):\n",
    "        tmp.append([])\n",
    "    for j in range(0, n_items):\n",
    "        #avance dans l'algo si l'utilisateur a noté l'item\n",
    "        if utility_matrix[i][j] != 0:\n",
    "            #reunion des items du meme genre \n",
    "            tmp[kmeans.labels_[j] - 1].append(utility_matrix[i][j])\n",
    "    for index in range(0, 19):\n",
    "        if len(tmp[index]) != 0:\n",
    "            #calcul de la moyenne\n",
    "            average[index] = np.mean(tmp[index])\n",
    "        else:\n",
    "            average[index] = 0\n",
    "    utility_matrix_clustered.append(average)"
   ]
  },
  {
   "cell_type": "code",
   "execution_count": null,
   "metadata": {
    "collapsed": true
   },
   "outputs": [],
   "source": [
    "#trouver la note de moyenne globale de chaque utilisateur et la stocker dans l'objet user"
   ]
  },
  {
   "cell_type": "code",
   "execution_count": 57,
   "metadata": {
    "collapsed": true
   },
   "outputs": [],
   "source": [
    "for i in range(0, n_users):\n",
    "    umc = utility_matrix_clustered[i]\n",
    "    user[i].avg_r = sum(rate for rate in umc if rate > 0) / sum(rate > 0 for rate in umc)"
   ]
  },
  {
   "cell_type": "code",
   "execution_count": 58,
   "metadata": {
    "collapsed": true
   },
   "outputs": [],
   "source": [
    "def pearson_correlation_similarity(x, y , ut):\n",
    "    num = 0\n",
    "    den1 = 0\n",
    "    den2 = 0\n",
    "    \n",
    "    A = ut[x - 1]\n",
    "    B = ut[y - 1]\n",
    "  \n",
    "    num = sum((a - user[x - 1].avg_r) * (b - user[y - 1].avg_r) for a, b in zip(A, B) if a > 0 and b > 0)\n",
    "    den1 = sum((a - user[x - 1].avg_r) ** 2 for a in A if a > 0)\n",
    "    den2 = sum((b - user[y - 1].avg_r) ** 2 for b in B if b > 0)\n",
    "    den = (den1 ** 0.5) * (den2 ** 0.5)\n",
    "    if den == 0:\n",
    "        return 0\n",
    "    else:\n",
    "        return num / den"
   ]
  },
  {
   "cell_type": "code",
   "execution_count": 59,
   "metadata": {
    "collapsed": false
   },
   "outputs": [],
   "source": [
    "pearson_correlation_similarity_matrix = np.zeros((n_users, n_users))\n",
    "for i in range(0, n_users):\n",
    "    for j in range(0, n_users):\n",
    "        if i!=j:\n",
    "            pearson_correlation_similarity_matrix[i][j] = pearson_correlation_similarity(i + 1, j + 1 , utility_matrix_clustered)"
   ]
  },
  {
   "cell_type": "code",
   "execution_count": 60,
   "metadata": {
    "collapsed": true
   },
   "outputs": [],
   "source": [
    "def norm():\n",
    "    normalize = np.zeros((n_users, 19))\n",
    "    for i in range(0, n_users):\n",
    "        for j in range(0, 19):\n",
    "            if utility_matrix_clustered[i][j] != 0:\n",
    "                normalize[i][j] = utility_matrix_clustered[i][j] - user[i].avg_r\n",
    "            else:\n",
    "                normalize[i][j] = float('Inf')\n",
    "    return normalize"
   ]
  },
  {
   "cell_type": "code",
   "execution_count": 61,
   "metadata": {
    "collapsed": true
   },
   "outputs": [],
   "source": [
    "def guess(user_id, i_id, top_n):\n",
    "    similarity = []\n",
    "    for i in range(0, n_users):\n",
    "        if i+1 != user_id:\n",
    "            similarity.append(pearson_correlation_similarity_matrix[user_id-1][i])\n",
    "    temp = norm()\n",
    "    temp = np.delete(temp, user_id-1, 0)\n",
    "    top = [x for (y,x) in sorted(zip(similarity,temp), key=lambda pair: pair[0], reverse=True)]\n",
    "    s = 0\n",
    "    c = 0\n",
    "    for i in range(0, top_n):\n",
    "        if top[i][i_id-1] != float('Inf'):\n",
    "            s += top[i][i_id-1]\n",
    "            c += 1\n",
    "    g = user[user_id-1].avg_r if c == 0 else s/float(c) + user[user_id-1].avg_r\n",
    "    if g < 1.0:\n",
    "        return 1.0\n",
    "    elif g > 5.0:\n",
    "        return 5.0\n",
    "    else:\n",
    "        return g"
   ]
  },
  {
   "cell_type": "code",
   "execution_count": 62,
   "metadata": {
    "collapsed": false
   },
   "outputs": [],
   "source": [
    "utility_copy = np.copy(utility_matrix_clustered)\n",
    "for i in range(0, n_users):\n",
    "    for j in range(0, 19):\n",
    "        if utility_copy[i][j] == 0:\n",
    "            utility_copy[i][j] = guess(i+1, j+1, 150)"
   ]
  },
  {
   "cell_type": "code",
   "execution_count": null,
   "metadata": {
    "collapsed": true
   },
   "outputs": [],
   "source": [
    "#prediction de la note pour u.test et calcul du MSE"
   ]
  },
  {
   "cell_type": "code",
   "execution_count": 63,
   "metadata": {
    "collapsed": false
   },
   "outputs": [
    {
     "name": "stdout",
     "output_type": "stream",
     "text": [
      "Mean Squared Error of the estimator is: 1.244248\n",
      "Homogeneity is : 0.229843\n"
     ]
    }
   ],
   "source": [
    "metrics_comparison(kmeans.labels_)"
   ]
  },
  {
   "cell_type": "code",
   "execution_count": null,
   "metadata": {
    "collapsed": true
   },
   "outputs": [],
   "source": [
    "#little UI\n",
    "\n",
    "#user"
   ]
  },
  {
   "cell_type": "code",
   "execution_count": 80,
   "metadata": {
    "collapsed": false
   },
   "outputs": [
    {
     "name": "stdout",
     "output_type": "stream",
     "text": [
      "How old are you?\n",
      "2\n",
      "What is your gender?\n",
      "2\n",
      "What is your occupation?\n",
      "2\n",
      "how many movies do you want to rate?\n",
      "2\n",
      "GoldenEye (1995): \n",
      "http://us.imdb.com/M/title-exact?GoldenEye%20(1995)\n",
      "2\n",
      "Terminator, The (1984): \n",
      "http://us.imdb.com/M/title-exact?Terminator,%20The%20(1984)\n",
      "2\n",
      "Your average rate for all movies is :2.0\n",
      "The user similar to you is user number 608\n",
      "[' age : 13', 'sex :F', 'occupation:student', 'global average rating : 0.0']\n"
     ]
    }
   ],
   "source": [
    "#age\n",
    "print(\"How old are you?\")\n",
    "age = input()\n",
    "\n",
    "print(\"What is your gender?\")\n",
    "sex = input()\n",
    "\n",
    "#occupation\n",
    "print(\"What is your occupation?\")\n",
    "occupation = input()\n",
    "\n",
    "print(\"how many movies do you want to rate?\")\n",
    "numb_movie = int(input())\n",
    "ask = random.sample(item, numb_movie)\n",
    "new_user = np.zeros(19)\n",
    "average_new_user = 0\n",
    "for movie in ask:\n",
    "\tprint(movie.title + \": \")\n",
    "\tprint(movie.imdb_url)\n",
    "\ta = int(input())\n",
    "\taverage_new_user = average_new_user + a\n",
    "\tif new_user[kmeans.labels_[movie.id - 1]] != 0:\n",
    "\t\tnew_user[kmeans.labels_[movie.id - 1]] = (new_user[kmeans.labels_[movie.id - 1]] + a) / 2\n",
    "\telse:\n",
    "\t\tnew_user[kmeans.labels_[movie.id - 1]] = a\n",
    "\n",
    "utility_new = np.vstack((utility_copy, new_user))\n",
    "\n",
    "new_user = User(944 , age , sex , occupation , 110018)\n",
    "user.append(new_user)\n",
    "\n",
    "pearson_correlation_matrix = np.zeros(n_users)\n",
    "list_averaging_users = []\n",
    "print(\"Your average rate for all movies is :\" +str(average_new_user/numb_movie))\n",
    "\n",
    "#user similar\n",
    "for i in range(0, n_users + 1):\n",
    "    if i!=943:\n",
    "        pearson_correlation_matrix[i] = pearson_correlation_similarity(944, i + 1  , utility_new)\n",
    "        list_averaging_users.append(pearson_correlation_matrix[i])\n",
    "    \n",
    "index_max = max(enumerate(list_averaging_users),key=lambda x: x[1])[0]\n",
    "print(\"The user similar to you is user number \" +str(index_max))\n",
    "#print(index_max)\n",
    "\n",
    "user_similar = [\" age : \"+str(user[index_max].age) , \"sex :\" +str(user[index_max].sex) , \"occupation:\"+str(user[index_max].occupation)]\n",
    "print(user_similar)"
   ]
  },
  {
   "cell_type": "code",
   "execution_count": 72,
   "metadata": {
    "collapsed": false
   },
   "outputs": [
    {
     "name": "stdout",
     "output_type": "stream",
     "text": [
      "How many top genre do you want?\n",
      "1\n",
      "Movie genres you'd like:\n",
      "drama\n"
     ]
    }
   ],
   "source": [
    "user_index = []\n",
    "for i in user:\n",
    "\tuser_index.append(i.id - 1)\n",
    "user_index = user_index[:943]\n",
    "user_index = np.array(user_index)\n",
    "\n",
    "top = [x for (y,x) in sorted(zip(pearson_correlation_matrix, user_index), key=lambda pair: pair[0], reverse=True)]\n",
    "\n",
    "print(\"How many top genre do you want?\")\n",
    "numb =  int(input())\n",
    "\n",
    "top = top[:numb]\n",
    "\n",
    "top_genre = []\n",
    "\n",
    "for i in range(0, numb):\n",
    "\tmaxi = 0\n",
    "\tmaxe = 0\n",
    "\tfor j in range(0, 19):\n",
    "\t\tif maxe < utility_matrix[top[i]][j]:\n",
    "\t\t\tmaxe = utility_matrix[top[i]][j]\n",
    "\t\t\tmaxi = j\n",
    "\ttop_genre.append(maxi)\n",
    "\n",
    "print(\"Movie genres you'd like:\")\n",
    "\n",
    "for i in top_genre:\n",
    "\tif i == 0:\n",
    "\t\tprint(\"unknown\")\n",
    "\telif i == 1:\n",
    "\t\tprint(\"action\")\n",
    "\telif i == 2:\n",
    "\t\tprint(\"adventure\")\n",
    "\telif i == 3:\n",
    "\t\tprint(\"animation\")\n",
    "\telif i == 4:\n",
    "\t\tprint(\"childrens\")\n",
    "\telif i == 5:\n",
    "\t\tprint(\"comedy\")\n",
    "\telif i == 6:\n",
    "\t\tprint(\"crime\")\n",
    "\telif i == 7:\n",
    "\t\tprint(\"documentary\")\n",
    "\telif i == 8:\n",
    "\t\tprint(\"drama\")\n",
    "\telif i == 9:\n",
    "\t\tprint(\"fantasy\")\n",
    "\telif i == 10:\n",
    "\t\tprint(\"film_noir\")\n",
    "\telif i == 11:\n",
    "\t\tprint(\"horror\")\n",
    "\telif i == 12:\n",
    "\t\tprint(\"musical\")\n",
    "\telif i == 13:\n",
    "\t\tprint(\"mystery\")\n",
    "\telif i == 14:\n",
    "\t\tprint(\"romance\")\n",
    "\telif i == 15:\n",
    "\t\tprint(\"science fiction\")\n",
    "\telif i == 16:\n",
    "\t\tprint(\"thriller\")\n",
    "\telif i == 17:\n",
    "\t\tprint(\"war\")\n",
    "\telse:\n",
    "\t\tprint(\"western\")"
   ]
  },
  {
   "cell_type": "code",
   "execution_count": 79,
   "metadata": {
    "collapsed": false
   },
   "outputs": [
    {
     "name": "stdout",
     "output_type": "stream",
     "text": [
      "These are the top rated movies by your similar user , may take a quick look..\n",
      "             movies\n",
      "0  Apollo 13 (1995)\n"
     ]
    }
   ],
   "source": [
    "suggested_movies = max_rated_user_index_max(index_max, numb)\n",
    "print(\"These are the top rated movies by your similar user , may take a quick look..\")\n",
    "print(suggested_movies)"
   ]
  },
  {
   "cell_type": "code",
   "execution_count": null,
   "metadata": {
    "collapsed": false
   },
   "outputs": [],
   "source": [
    "list_users = []\n",
    "for usr in range(0,n_users):\n",
    "    list_users.append([user[usr].sex , user[usr].age , user[usr].occupation , pearson_correlation_matrix[usr]])\n",
    "    \n",
    "df_users = pd.DataFrame(list_users)   \n",
    "df_users.columns = ['sex' , 'age' , 'occupation' , 'similarity']\n",
    "\n",
    "# Define some CSS to control our custom labels\n",
    "css = \"\"\"\n",
    "table\n",
    "{\n",
    "  border-collapse: collapse;\n",
    "}\n",
    "th\n",
    "{\n",
    "  color: #ffffff;\n",
    "  background-color: #000000;\n",
    "}\n",
    "td\n",
    "{\n",
    "  background-color: #cccccc;\n",
    "}\n",
    "table, th, td\n",
    "{\n",
    "  font-family:Arial, Helvetica, sans-serif;\n",
    "  border: 1px solid black;\n",
    "  text-align: right;\n",
    "}\n",
    "\"\"\"\n",
    "\n",
    "fig = plt.gcf()\n",
    "fig.set_size_inches(12, 10)\n",
    "\n",
    "\n",
    "\n",
    "N = n_users\n",
    "df = pd.DataFrame(index=range(N))\n",
    "df['sex'] = df_users['sex']\n",
    "df['age'] = df_users['age'] \n",
    "df['occupation'] = df_users['occupation']\n",
    "df['similarity'] = df_users['similarity']\n",
    "\n",
    "labels = []\n",
    "for i in range(N):\n",
    "    label = df.ix[[i], :].T\n",
    "    label.columns = ['user :' + str(i)]\n",
    "    labels.append(str(label.to_html()))\n",
    "\n",
    "\n",
    "\n",
    "y_index_max = pearson_correlation_matrix[index_max]\n",
    "points = plt.plot(df.index,pearson_correlation_matrix , 'o', color='lightblue',\n",
    "                 mec='k', ms=9, mew=1, alpha=.6)\n",
    "#plt.plot(df.index_max , y_index_max , color = \"yellow\")\n",
    "plt.grid(True , alpha = 0.3)\n",
    "plt.xlabel('index users' , size=15)\n",
    "plt.ylabel('correlation similarity measure' , size=15)\n",
    "plt.title('Users by similarities', size=15)\n",
    "\n",
    "tooltip = plugins.PointHTMLTooltip(points[0], labels,\n",
    "                                   voffset=5, hoffset=5, css=css)\n",
    "\n",
    "plugins.connect(fig, tooltip)\n",
    "mpld3.display()"
   ]
  },
  {
   "cell_type": "code",
   "execution_count": null,
   "metadata": {
    "collapsed": true
   },
   "outputs": [],
   "source": []
  }
 ],
 "metadata": {
  "anaconda-cloud": {},
  "kernelspec": {
   "display_name": "Python [conda root]",
   "language": "python",
   "name": "conda-root-py"
  },
  "language_info": {
   "codemirror_mode": {
    "name": "ipython",
    "version": 3
   },
   "file_extension": ".py",
   "mimetype": "text/x-python",
   "name": "python",
   "nbconvert_exporter": "python",
   "pygments_lexer": "ipython3",
   "version": "3.5.2"
  }
 },
 "nbformat": 4,
 "nbformat_minor": 1
}
