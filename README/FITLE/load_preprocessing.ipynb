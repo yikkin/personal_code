{
 "cells": [
  {
   "cell_type": "markdown",
   "metadata": {},
   "source": [
    "Ce fichier tout entier sert à stocker les fonctions [communes] qui pourraient etre appeler par le développeur (Data Scientist) dans le cas où il aurait dans l'idée de tester de nouveau alogithmes , tout en gardant notre trame de raisonnement."
   ]
  },
  {
   "cell_type": "code",
   "execution_count": 1,
   "metadata": {
    "collapsed": true
   },
   "outputs": [],
   "source": [
    "%run classes_definitions.ipynb"
   ]
  },
  {
   "cell_type": "markdown",
   "metadata": {},
   "source": [
    "### importation de modules\n",
    "L'imporation des modules va permettre de faire appel à n'importe quel fonction contenu à l'intérieur"
   ]
  },
  {
   "cell_type": "code",
   "execution_count": 2,
   "metadata": {
    "collapsed": true
   },
   "outputs": [],
   "source": [
    "import math\n",
    "import re\n",
    "import numpy as np\n",
    "import pandas as pd\n",
    "import random \n",
    "import matplotlib.pyplot as plt\n",
    "import mpld3\n",
    "from mpld3 import plugins"
   ]
  },
  {
   "cell_type": "markdown",
   "metadata": {
    "collapsed": true
   },
   "source": [
    "stockage des données sous forme de matrice (liste de listes) , pour un meilleur acces\n",
    "par indices dans le but d'extraire des données pour la suite de nos analyses"
   ]
  },
  {
   "cell_type": "code",
   "execution_count": 3,
   "metadata": {
    "collapsed": true
   },
   "outputs": [],
   "source": [
    "user = []\n",
    "item = []\n",
    "rating = []\n",
    "rating_test = []"
   ]
  },
  {
   "cell_type": "markdown",
   "metadata": {
    "collapsed": true
   },
   "source": [
    "chargement des données du dataset **movielens** et \"parsation\" en meme temps (découpage par colonnes)"
   ]
  },
  {
   "cell_type": "code",
   "execution_count": 4,
   "metadata": {
    "collapsed": true
   },
   "outputs": [],
   "source": [
    "d = Dataset()\n",
    "d.load_users(\"data/u.user\", user)\n",
    "d.load_items(\"data/u.item\", item)\n",
    "d.load_ratings(\"data/u.base\", rating)\n",
    "d.load_ratings(\"data/u.test\", rating_test)"
   ]
  },
  {
   "cell_type": "code",
   "execution_count": 5,
   "metadata": {
    "collapsed": true
   },
   "outputs": [],
   "source": [
    "n_users = len(user)\n",
    "n_items = len(item)"
   ]
  },
  {
   "cell_type": "markdown",
   "metadata": {
    "collapsed": true
   },
   "source": [
    "la **_utility matrix_** sert a stocker la note de chaque user a chaque item sous forme matricielle\n",
    "son principe est le suivant si user $i$ note item $j$ : \n",
    "\n",
    "$$utilitymatrix[i][j] != 0$$\n",
    "sinon :\n",
    "\n",
    "$$utilitymatrix[i][j] = 0$$\n",
    "(c'est un peu la matrice mère)\n",
    "\n",
    "nous faisons la meme chose pour la matrice _\"test\"_ qui contient un certain nombre de notes données par les utilisateurs , il s'agit de la matrice qui nous servira à valider la précision de notre estimateur"
   ]
  },
  {
   "cell_type": "code",
   "execution_count": 6,
   "metadata": {
    "collapsed": false
   },
   "outputs": [],
   "source": [
    "utility_matrix = np.zeros((n_users, n_items))\n",
    "for rate in rating:\n",
    "    utility_matrix[rate.user_id - 1][rate.item_id - 1] = rate.rating\n",
    "\n",
    "test = np.zeros((n_users, n_items))\n",
    "for rate in rating_test:\n",
    "    test[rate.user_id - 1][rate.item_id - 1] = rate.rating"
   ]
  },
  {
   "cell_type": "markdown",
   "metadata": {
    "collapsed": true
   },
   "source": [
    "#### Marquage du genre\n",
    "\n",
    "Cette instruction a pour but de parcourir tous les items contenus dans le fichier **item** et récupérera le genre du film en fonction la position de l'élément diffèrent de zéro [car la dernière case de chaque item est constituée de 0 et de 1 , 1 si l'item $i_0$ est de ce genre là 0 sinon (c'est sur cette liste que nous allons performer notre clustering dans la méthde d'apprentissage automatique)"
   ]
  },
  {
   "cell_type": "code",
   "execution_count": 7,
   "metadata": {
    "collapsed": true
   },
   "outputs": [],
   "source": [
    "movie_genre = []\n",
    "for movie in item:\n",
    "    movie_genre.append([movie.unknown, movie.action, movie.adventure, movie.animation,\n",
    "                        movie.childrens, movie.comedy,movie.crime, movie.documentary,\n",
    "                        movie.drama, movie.fantasy, movie.film_noir, movie.horror,\n",
    "                        movie.musical, movie.mystery, movie.romance, movie.sci_fi,\n",
    "                        movie.thriller, movie.war, movie.western])"
   ]
  },
  {
   "cell_type": "markdown",
   "metadata": {
    "collapsed": true
   },
   "source": [
    "### Comparaison des estimteurs\n",
    "Il s'agit d'une fonction dont le seul argument est la méthode de machine learning employé , \n",
    "son but est de comparer la proximité entre la note prédite par l'estimateur et la note stocké dans\n",
    "le fichier _\"test\"_ en se servant du _Mean Square Error_\n",
    "\n",
    "#### Mean Square Error\n",
    "Le MSE sert à mesurer la précision d' un estimateur en servant de son biais et sa variance ,\n",
    "le meilleur estimateur est souvent (toujours) celui dont la variance est la plus petite  , c'est le meilleur étalon pour des estimateurs de méthode à approche par minimisation de variance (ex : Kmeans..)\n",
    "\n",
    "#### Homogeneity\n",
    "Cette métrique sert à vérifier _\"l'homogénéité\"_ d'une classe en s'assurant que les éléments qui s'y trouvent n'appartiennent qu' a cette classe , son grand avantage est qu'aucune supposition n'est faite sur la composition des clusters.\n"
   ]
  },
  {
   "cell_type": "code",
   "execution_count": 8,
   "metadata": {
    "collapsed": true
   },
   "outputs": [],
   "source": [
    "def metrics_comparison(method):\n",
    "    y_true = []\n",
    "    y_pred = []\n",
    "    f = open('test.txt', 'w')\n",
    "    for i in range(0, n_users):\n",
    "        for j in range(0, n_items):\n",
    "            if test[i][j] > 0:\n",
    "                f.write(\"%d, %d, %.4f\\n\" % (i+1, j+1, utility_copy[i][method[j]-1]))\n",
    "                y_true.append(test[i][j])\n",
    "                y_pred.append(utility_copy[i][method[j]-1])\n",
    "    f.close()\n",
    "    print(\"Mean Squared Error of the estimator is: %f\" %metrics.mean_squared_error(y_true, y_pred))\n",
    "    print(\"Homogeneity is : %f\" %metrics.homogeneity_score(y_true, y_pred)) "
   ]
  },
  {
   "cell_type": "markdown",
   "metadata": {},
   "source": [
    "### Suggestion des films les mieux notés\n",
    "\n",
    "Ici l'idée est simple , une fois que notre utilisateur système sait de qui il est proche et quels genres de films lui sont sugérés en priorité il peut encore ne pas savoir où commencer ;il est donc judicieux de lui indiquer une piste pour savoir où regarder en se basant sur les films les mieux notés par son similare toutes catégories (genres) confondues."
   ]
  },
  {
   "cell_type": "code",
   "execution_count": 9,
   "metadata": {
    "collapsed": true
   },
   "outputs": [],
   "source": [
    "def max_rated_user_index_max(index_max , numb_genre):\n",
    "    lst_items = [[rate.user_id , rate.item_id , rate.rating] for rate in rating]\n",
    "    df_rate = pd.DataFrame(lst_items)\n",
    "    df_rate.columns = ['user_id' , 'item_id' , 'rate']\n",
    "    #constitution du dataframe des user_id des films_id note des films\n",
    "    df_item = pd.DataFrame([[it.id , it.title] for it in item])\n",
    "    df_item.columns = ['item_id' , 'movie_title']\n",
    "    #constitution du dataframe films_id et le titre du film\n",
    "    list_max_rated = []\n",
    "    df_rate_user_index_max = df_rate[df_rate['user_id'] == index_max]\n",
    "    #sous dataframe des notes de l utilisateur index_max uniquement\n",
    "    max_rate = max(df_rate_user_index_max['rate'])\n",
    "    #note maximale accorde par l'utilisateur index_max\n",
    "    df_rate_user_index_max_item_max = df_rate_user_index_max[df_rate_user_index_max['rate'] == max_rate]\n",
    "    #sous dataframe des notes films_id avec la note maximale\n",
    "    for item_id in df_rate_user_index_max_item_max['item_id']:\n",
    "        df = df_item[df_item['item_id'] == item_id]\n",
    "        dt = df['movie_title'].tolist()\n",
    "        list_max_rated.append(dt)\n",
    "    df_movies = pd.DataFrame(list_max_rated[0 : numb_genre])\n",
    "    df_movies.columns = ['movies']\n",
    "    return df_movies\n",
    "\n"
   ]
  }
 ],
 "metadata": {
  "anaconda-cloud": {},
  "kernelspec": {
   "display_name": "Python [conda root]",
   "language": "python",
   "name": "conda-root-py"
  },
  "language_info": {
   "codemirror_mode": {
    "name": "ipython",
    "version": 3
   },
   "file_extension": ".py",
   "mimetype": "text/x-python",
   "name": "python",
   "nbconvert_exporter": "python",
   "pygments_lexer": "ipython3",
   "version": "3.5.2"
  }
 },
 "nbformat": 4,
 "nbformat_minor": 1
}
