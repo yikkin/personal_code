{
 "cells": [
  {
   "cell_type": "code",
   "execution_count": 4,
   "metadata": {},
   "outputs": [],
   "source": [
    "#exemples d utilisation de *args et **kwargs"
   ]
  },
  {
   "cell_type": "code",
   "execution_count": 11,
   "metadata": {},
   "outputs": [],
   "source": [
    "import random as rnd\n",
    "import pandas as pd"
   ]
  },
  {
   "cell_type": "code",
   "execution_count": 19,
   "metadata": {},
   "outputs": [
    {
     "name": "stdout",
     "output_type": "stream",
     "text": [
      "2 3\n",
      "[2, 3]\n",
      "<class 'str'>\n"
     ]
    }
   ],
   "source": [
    "#packing et unpacking implicite\n",
    "# tuple unpacking\n",
    "a,b = (2,3)\n",
    "print(a,b)\n",
    "#tuple packing\n",
    "l = [a,b]\n",
    "print(l)\n",
    "s = \"s\"\n",
    "print(type(s))"
   ]
  },
  {
   "cell_type": "code",
   "execution_count": 5,
   "metadata": {},
   "outputs": [],
   "source": [
    "#tentative de redefinition de la fonction \"explode\"\n",
    "def df_explode(dataframe , \"column_name\"):\n",
    "    "
   ]
  },
  {
   "cell_type": "code",
   "execution_count": 4,
   "metadata": {},
   "outputs": [
    {
     "name": "stdout",
     "output_type": "stream",
     "text": [
      "[3, 3]\n"
     ]
    }
   ],
   "source": [
    "lst = [2,3,2,3,2,4]\n",
    "lst_filtered = list(filter(lambda x : x%2 == 1, lst))\n",
    "print(lst_filtered)"
   ]
  },
  {
   "cell_type": "code",
   "execution_count": 18,
   "metadata": {},
   "outputs": [
    {
     "name": "stdout",
     "output_type": "stream",
     "text": [
      "[4, 0, 2, 3, 1]\n",
      "[0, 1, 2, 3, 4]\n",
      "[4 0 2 3 1]\n"
     ]
    }
   ],
   "source": [
    "vec1 = list(range(5))\n",
    "vec2 = rnd.sample(vec1 , 5)\n",
    "print(vec2)\n",
    "print(vec1)\n",
    "df = pd.DataFrame({\"col1\" : vec1, \"col2\" : vec2})\n",
    "print(df[\"col2\"].values)"
   ]
  },
  {
   "cell_type": "code",
   "execution_count": null,
   "metadata": {},
   "outputs": [],
   "source": []
  },
  {
   "cell_type": "code",
   "execution_count": 10,
   "metadata": {},
   "outputs": [
    {
     "name": "stdout",
     "output_type": "stream",
     "text": [
      "<class 'dict'>\n",
      "[('value.lines.barcode', {'newName': 'EAN', 'type': 'string', 'origin_type': 'liste'}), ('value.key.stoEan', {'newName': 'Store', 'type': 'string', 'origin_type': 'str'}), ('value.header.cardKey', {'newName': 'card_key', 'type': 'string', 'origin_type': 'str'}), ('value.key.dateKey', {'newName': 'Date', 'type': 'string', 'origin_type': 'str'}), ('value.header.cardFlag', {'newName': 'card_flag', 'type': 'string', 'origin_type': 'str'}), ('value.lines.salAmtWtax.unscaledAmount', {'newName': 'sal_amt_wtax', 'type': 'long', 'origin_type': 'list'}), ('value.header.trxKey', {'newName': 'TransactionKey', 'type': 'string', 'origin_type': 'str'}), ('value.lines.salAmtWtax.scale', {'newName': 'scale', 'type': 'inetger', 'origin_type': 'liste'}), ('value.lines.trxTypeLine', {'newName': 'trxTypeLine', 'type': 'inetger', 'origin_type': 'liste'}), ('value.lines.salUnitQty', {'newName': 'sal_unit_qty', 'type': 'double', 'origin_type': 'liste'}), ('value.lines.salUnitQtyWeight', {'newName': 'salUnitQtyWeight', 'type': 'double', 'origin_type': 'liste'})]\n"
     ]
    }
   ],
   "source": [
    "mapping_trx_line = {'value.lines.barcode': {'newName': 'EAN', 'type': 'string',\"origin_type\": \"liste\"},\n",
    "'value.key.stoEan': {'newName': 'Store', 'type': 'string',\"origin_type\": \"str\"} ,\n",
    "'value.header.cardKey': {'newName': 'card_key', 'type': 'string',\"origin_type\": \"str\"}, \n",
    "'value.key.dateKey': {'newName': 'Date', 'type': 'string',\"origin_type\": \"str\"}, \n",
    "'value.header.cardFlag': {'newName': 'card_flag', 'type': 'string',\"origin_type\": \"str\"}, \n",
    "'value.lines.salAmtWtax.unscaledAmount': {'newName': 'sal_amt_wtax', 'type': 'long',\"origin_type\": \"list\"}, \n",
    "'value.header.trxKey': {'newName': 'TransactionKey', 'type': 'string',\"origin_type\": \"str\"},\n",
    "\"value.lines.salAmtWtax.scale\":{'newName': 'scale', 'type': 'inetger',\"origin_type\": \"liste\"},\n",
    "\"value.lines.trxTypeLine\":{'newName': 'trxTypeLine', 'type': 'inetger',\"origin_type\": \"liste\"},\n",
    "'value.lines.salUnitQty': {'newName': 'sal_unit_qty', 'type': 'double',\"origin_type\": \"liste\"},\n",
    "'value.lines.salUnitQtyWeight': {'newName': 'salUnitQtyWeight', 'type': 'double',\"origin_type\": \"liste\"},\n",
    "}\n",
    "\n",
    "print(type(mapping_trx_line))\n",
    "fields = []\n",
    "for element in mapping_trx_line.items():\n",
    "    fields.append(element)\n",
    "#fields = sorted(fields , key = lambda x : x[1][\"newName\"] , reverse = False)\n",
    "print(fields)"
   ]
  },
  {
   "cell_type": "code",
   "execution_count": 5,
   "metadata": {},
   "outputs": [
    {
     "name": "stdout",
     "output_type": "stream",
     "text": [
      "[('value.key.dateKey', {'newName': 'Date', 'type': 'string', 'origin_type': 'str'}), ('value.lines.barcode', {'newName': 'EAN', 'type': 'string', 'origin_type': 'liste'}), ('value.key.stoEan', {'newName': 'Store', 'type': 'string', 'origin_type': 'str'}), ('value.header.trxKey', {'newName': 'TransactionKey', 'type': 'string', 'origin_type': 'str'}), ('value.header.cardFlag', {'newName': 'card_flag', 'type': 'string', 'origin_type': 'str'}), ('value.header.cardKey', {'newName': 'card_key', 'type': 'string', 'origin_type': 'str'}), ('value.lines.salUnitQtyWeight', {'newName': 'salUnitQtyWeight', 'type': 'double', 'origin_type': 'liste'}), ('value.lines.salAmtWtax.unscaledAmount', {'newName': 'sal_amt_wtax', 'type': 'long', 'origin_type': 'list'}), ('value.lines.salUnitQty', {'newName': 'sal_unit_qty', 'type': 'double', 'origin_type': 'liste'}), ('value.lines.salAmtWtax.scale', {'newName': 'scale', 'type': 'inetger', 'origin_type': 'liste'}), ('value.lines.trxTypeLine', {'newName': 'trxTypeLine', 'type': 'inetger', 'origin_type': 'liste'})]\n",
      "<class 'str'>\n",
      "<class 'dict'>\n"
     ]
    }
   ],
   "source": [
    "fields = sorted(fields , key = lambda x : x[1][\"newName\"] , reverse = False)\n",
    "print(fields)\n",
    "print(type(fields[0][0]))\n",
    "print(type(fields[0][1]))"
   ]
  },
  {
   "cell_type": "code",
   "execution_count": 50,
   "metadata": {},
   "outputs": [
    {
     "name": "stdout",
     "output_type": "stream",
     "text": [
      "<class 'tuple'>\n",
      "('value.lines.barcode', {'newName': 'EAN', 'type': 'string', 'origin_type': 'liste'})\n",
      "<class 'tuple'>\n",
      "('value.key.stoEan', {'newName': 'Store', 'type': 'string', 'origin_type': 'str'})\n",
      "<class 'tuple'>\n",
      "('value.header.cardKey', {'newName': 'card_key', 'type': 'string', 'origin_type': 'str'})\n",
      "<class 'tuple'>\n",
      "('value.key.dateKey', {'newName': 'Date', 'type': 'string', 'origin_type': 'str'})\n",
      "<class 'tuple'>\n",
      "('value.header.cardFlag', {'newName': 'card_flag', 'type': 'string', 'origin_type': 'str'})\n",
      "<class 'tuple'>\n",
      "('value.lines.salAmtWtax.unscaledAmount', {'newName': 'sal_amt_wtax', 'type': 'long', 'origin_type': 'list'})\n",
      "<class 'tuple'>\n",
      "('value.header.trxKey', {'newName': 'TransactionKey', 'type': 'string', 'origin_type': 'str'})\n",
      "<class 'tuple'>\n",
      "('value.lines.salAmtWtax.scale', {'newName': 'scale', 'type': 'inetger', 'origin_type': 'liste'})\n",
      "<class 'tuple'>\n",
      "('value.lines.trxTypeLine', {'newName': 'trxTypeLine', 'type': 'inetger', 'origin_type': 'liste'})\n",
      "<class 'tuple'>\n",
      "('value.lines.salUnitQty', {'newName': 'sal_unit_qty', 'type': 'double', 'origin_type': 'liste'})\n",
      "<class 'tuple'>\n",
      "('value.lines.salUnitQtyWeight', {'newName': 'salUnitQtyWeight', 'type': 'double', 'origin_type': 'liste'})\n"
     ]
    }
   ],
   "source": [
    "for element in mapping_trx_line.items(): \n",
    "    print(type(element))\n",
    "    print(element)"
   ]
  },
  {
   "cell_type": "code",
   "execution_count": null,
   "metadata": {},
   "outputs": [],
   "source": []
  },
  {
   "cell_type": "code",
   "execution_count": null,
   "metadata": {},
   "outputs": [],
   "source": []
  },
  {
   "cell_type": "code",
   "execution_count": 35,
   "metadata": {},
   "outputs": [
    {
     "name": "stdout",
     "output_type": "stream",
     "text": [
      "{'iphone': 2007, 'iphone 3G': 2008, 'iphone 3GS': 2009, 'iphone 4': 2010, 'iphone 4S': 2011, 'iphone 5': 2012}\n",
      "[2007, 2008, 2009, 2010, 2011, 2012]\n"
     ]
    }
   ],
   "source": [
    "released = {\n",
    "\t\t\"iphone\" : 2007,\n",
    "\t\t\"iphone 3G\" : 2008,\n",
    "\t\t\"iphone 3GS\" : 2009,\n",
    "\t\t\"iphone 4\" : 2010,\n",
    "\t\t\"iphone 4S\" : 2011,\n",
    "\t\t\"iphone 5\" : 2012\n",
    "\t}\n",
    "print(released)\n",
    "\n",
    "items_released = sorted([value for key , value in  released.items()]\n",
    "\n",
    "#items_released = sorted()                        \n",
    "print(items_released)"
   ]
  },
  {
   "cell_type": "code",
   "execution_count": 36,
   "metadata": {},
   "outputs": [
    {
     "name": "stdout",
     "output_type": "stream",
     "text": [
      "<class 'dict'>\n"
     ]
    }
   ],
   "source": [
    "print(type({'newName': 'EAN', 'type': 'string',\"origin_type\": \"liste\"}))"
   ]
  }
 ],
 "metadata": {
  "kernelspec": {
   "display_name": "Python 3",
   "language": "python",
   "name": "python3"
  },
  "language_info": {
   "codemirror_mode": {
    "name": "ipython",
    "version": 3
   },
   "file_extension": ".py",
   "mimetype": "text/x-python",
   "name": "python",
   "nbconvert_exporter": "python",
   "pygments_lexer": "ipython3",
   "version": "3.6.5"
  }
 },
 "nbformat": 4,
 "nbformat_minor": 2
}
