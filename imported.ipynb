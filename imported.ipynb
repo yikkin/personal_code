{
 "cells": [
  {
   "cell_type": "code",
   "execution_count": 1,
   "metadata": {},
   "outputs": [
    {
     "ename": "",
     "evalue": "",
     "output_type": "error",
     "traceback": [
      "Compilation Failed",
      "\u001b[31mMain.scala:48: object apache is not a member of package org\r",
      "                import org.apache.spark\r",
      "                           ^\u001b[0m"
     ]
    }
   ],
   "source": []
  },
  {
   "cell_type": "code",
   "execution_count": 82,
   "metadata": {},
   "outputs": [
    {
     "data": {
      "text/plain": [
       "\u001b[32mimport \u001b[36mscala.collection.JavaConversions._\u001b[0m\n",
       "\u001b[32mimport \u001b[36mjava.io.File\u001b[0m"
      ]
     },
     "metadata": {},
     "output_type": "display_data"
    }
   ],
   "source": []
  },
  {
   "cell_type": "code",
   "execution_count": 83,
   "metadata": {},
   "outputs": [
    {
     "data": {
      "text/plain": [
       "defined \u001b[32mfunction \u001b[36mgetFileTree\u001b[0m"
      ]
     },
     "metadata": {},
     "output_type": "display_data"
    }
   ],
   "source": []
  },
  {
   "cell_type": "code",
   "execution_count": 34,
   "metadata": {},
   "outputs": [
    {
     "name": "stdout",
     "output_type": "stream",
     "text": [
      "data\\dataset_iris.txt\n",
      "data\\example.txt\n"
     ]
    },
    {
     "data": {
      "text/plain": [
       "\u001b[36mextension\u001b[0m: \u001b[32mString\u001b[0m = \u001b[32m\".txt\"\u001b[0m"
      ]
     },
     "metadata": {},
     "output_type": "display_data"
    }
   ],
   "source": []
  },
  {
   "cell_type": "code",
   "execution_count": 1,
   "metadata": {},
   "outputs": [
    {
     "data": {
      "text/plain": [
       "defined \u001b[32mfunction \u001b[36mlist_of_values\u001b[0m"
      ]
     },
     "metadata": {},
     "output_type": "display_data"
    }
   ],
   "source": []
  },
  {
   "cell_type": "code",
   "execution_count": 2,
   "metadata": {},
   "outputs": [
    {
     "name": "stdout",
     "output_type": "stream",
     "text": [
      "class scala.collection.immutable.$colon$colon\n"
     ]
    },
    {
     "data": {
      "text/plain": [
       "\u001b[36mrandom_type\u001b[0m: \u001b[32mutil\u001b[0m.\u001b[32mRandom\u001b[0m.type = scala.util.Random$@642baf7d\n",
       "\u001b[36mrandom_integer\u001b[0m: \u001b[32mInt\u001b[0m = \u001b[32m2\u001b[0m\n",
       "\u001b[36mreslt\u001b[0m: \u001b[32mList\u001b[0m[\u001b[32mString\u001b[0m] = \u001b[33mList\u001b[0m(\u001b[32m\"scala\"\u001b[0m, \u001b[32m\"scala\"\u001b[0m)"
      ]
     },
     "metadata": {},
     "output_type": "display_data"
    }
   ],
   "source": []
  },
  {
   "cell_type": "code",
   "execution_count": 16,
   "metadata": {},
   "outputs": [
    {
     "data": {
      "text/plain": [
       "defined \u001b[32mfunction \u001b[36mdefine_struc_type\u001b[0m"
      ]
     },
     "metadata": {},
     "output_type": "display_data"
    }
   ],
   "source": []
  },
  {
   "cell_type": "code",
   "execution_count": 17,
   "metadata": {},
   "outputs": [
    {
     "data": {
      "text/plain": [
       "\u001b[36mreslt_define_struc_type\u001b[0m: \u001b[32mAny\u001b[0m = type1"
      ]
     },
     "metadata": {},
     "output_type": "display_data"
    }
   ],
   "source": [
    "val reslt_define_struc_type = define_struc_type(\"string\")"
   ]
  },
  {
   "cell_type": "code",
   "execution_count": 68,
   "metadata": {},
   "outputs": [
    {
     "data": {
      "text/plain": [
       "defined \u001b[32mfunction \u001b[36mfiles_extensions_searched\u001b[0m"
      ]
     },
     "metadata": {},
     "output_type": "display_data"
    }
   ],
   "source": []
  },
  {
   "cell_type": "code",
   "execution_count": 3,
   "metadata": {},
   "outputs": [
    {
     "data": {
      "text/plain": [
       "\u001b[36mlist_files_extensions\u001b[0m: \u001b[32mList\u001b[0m[\u001b[32mString\u001b[0m] = \u001b[33mList\u001b[0m(\n",
       "  \u001b[32m\"part1.avro\"\u001b[0m,\n",
       "  \u001b[32m\"part2.avro\"\u001b[0m,\n",
       "  \u001b[32m\"part3.avro\"\u001b[0m,\n",
       "  \u001b[32m\"part1.csv\"\u001b[0m,\n",
       "  \u001b[32m\"part1.txt\"\u001b[0m\n",
       ")"
      ]
     },
     "metadata": {},
     "output_type": "display_data"
    }
   ],
   "source": []
  },
  {
   "cell_type": "code",
   "execution_count": 87,
   "metadata": {},
   "outputs": [
    {
     "data": {
      "text/plain": [
       "\u001b[36mall_files\u001b[0m: \u001b[32mStream\u001b[0m[\u001b[32mFile\u001b[0m] = \u001b[33mStream\u001b[0m(\n",
       "  data,\n",
       "  data\\.ipynb_checkpoints,\n",
       "  data\\dataset_iris.txt,\n",
       "  data\\example.txt,\n",
       "  data\\iris_csv_file.csv,\n",
       "  data\\part1.avro,\n",
       "  data\\part2.avro,\n",
       "  data\\part3.avro\n",
       ")"
      ]
     },
     "metadata": {},
     "output_type": "display_data"
    }
   ],
   "source": []
  },
  {
   "cell_type": "code",
   "execution_count": 98,
   "metadata": {},
   "outputs": [
    {
     "data": {
      "text/plain": [
       "defined \u001b[32mfunction \u001b[36mget_last_available_file\u001b[0m"
      ]
     },
     "metadata": {},
     "output_type": "display_data"
    }
   ],
   "source": []
  },
  {
   "cell_type": "code",
   "execution_count": 99,
   "metadata": {},
   "outputs": [
    {
     "data": {
      "text/plain": [
       "\u001b[36mreslt_get_last_available_file\u001b[0m: \u001b[32mStream\u001b[0m[\u001b[32mFile\u001b[0m] = \u001b[33mStream\u001b[0m(\n",
       "  data\\part1.avro,\n",
       "  data\\part2.avro,\n",
       "  data\\part3.avro\n",
       ")"
      ]
     },
     "metadata": {},
     "output_type": "display_data"
    }
   ],
   "source": []
  },
  {
   "cell_type": "code",
   "execution_count": 96,
   "metadata": {},
   "outputs": [
    {
     "data": {
      "text/plain": [
       "\u001b[36mres67\u001b[0m: \u001b[32mStream\u001b[0m[\u001b[32mFile\u001b[0m] = \u001b[33mStream\u001b[0m(\n",
       "  data\\part1.avro,\n",
       "  data\\part2.avro,\n",
       "  data\\part3.avro\n",
       ")"
      ]
     },
     "metadata": {},
     "output_type": "display_data"
    }
   ],
   "source": []
  },
  {
   "cell_type": "code",
   "execution_count": 16,
   "metadata": {},
   "outputs": [
    {
     "data": {
      "text/plain": [
       "\u001b[32mimport \u001b[36mscala.collection.mutable.Map\u001b[0m"
      ]
     },
     "metadata": {},
     "output_type": "display_data"
    }
   ],
   "source": []
  },
  {
   "cell_type": "code",
   "execution_count": 17,
   "metadata": {},
   "outputs": [
    {
     "data": {
      "text/plain": [
       "\u001b[36mmapping_trx_line\u001b[0m: \u001b[32mMap\u001b[0m[\u001b[32mString\u001b[0m, \u001b[32mString\u001b[0m] = \u001b[33mMap\u001b[0m(\n",
       "  \u001b[32m\"KY\"\u001b[0m -> \u001b[32m\"Kentucky\"\u001b[0m,\n",
       "  \u001b[32m\"IL\"\u001b[0m -> \u001b[32m\"Illinois\"\u001b[0m,\n",
       "  \u001b[32m\"AK\"\u001b[0m -> \u001b[32m\"Alaska\"\u001b[0m\n",
       ")"
      ]
     },
     "metadata": {},
     "output_type": "display_data"
    }
   ],
   "source": [
    "val mapping_trx_line = Map(\"AK\" -> \"Alaska\",\"IL\" -> \"Illinois\",\"KY\" -> \"Kentucky\")"
   ]
  },
  {
   "cell_type": "code",
   "execution_count": 26,
   "metadata": {},
   "outputs": [
    {
     "data": {
      "text/plain": [
       "\u001b[36mmapping_trx_line\u001b[0m: \u001b[32mMap\u001b[0m[\u001b[32mString\u001b[0m, \u001b[32mMap\u001b[0m[\u001b[32mString\u001b[0m, \u001b[32mString\u001b[0m]] = \u001b[33mMap\u001b[0m(\n",
       "  \u001b[32m\"value.lines.salUnitQty\"\u001b[0m -> \u001b[33mMap\u001b[0m(\n",
       "    \u001b[32m\"type\"\u001b[0m -> \u001b[32m\"double\"\u001b[0m,\n",
       "    \u001b[32m\"origin_type\"\u001b[0m -> \u001b[32m\"liste\"\u001b[0m,\n",
       "    \u001b[32m\"newName\"\u001b[0m -> \u001b[32m\"sal_unit_qty\"\u001b[0m\n",
       "  ),\n",
       "  \u001b[32m\"value.lines.barcode\"\u001b[0m -> \u001b[33mMap\u001b[0m(\n",
       "    \u001b[32m\"type\"\u001b[0m -> \u001b[32m\"string\"\u001b[0m,\n",
       "    \u001b[32m\"origin_type\"\u001b[0m -> \u001b[32m\"liste\"\u001b[0m,\n",
       "    \u001b[32m\"newName\"\u001b[0m -> \u001b[32m\"EAN\"\u001b[0m\n",
       "  ),\n",
       "  \u001b[32m\"value.lines.salAmtWtax.scale\"\u001b[0m -> \u001b[33mMap\u001b[0m(\n",
       "    \u001b[32m\"type\"\u001b[0m -> \u001b[32m\"inetger\"\u001b[0m,\n",
       "    \u001b[32m\"origin_type\"\u001b[0m -> \u001b[32m\"liste\"\u001b[0m,\n",
       "    \u001b[32m\"newName\"\u001b[0m -> \u001b[32m\"scale\"\u001b[0m\n",
       "\u001b[33m...\u001b[0m"
      ]
     },
     "metadata": {},
     "output_type": "display_data"
    }
   ],
   "source": [
    "val mapping_trx_line = Map(\"value.lines.barcode\"-> Map(\"newName\"-> \"EAN\", \"type\"-> \"string\",\"origin_type\"-> \"liste\"),\n",
    "\"value.key.stoEan\"-> Map(\"newName\"-> \"Store\", \"type\"-> \"string\",\"origin_type\"-> \"str\") ,\n",
    "\"value.header.cardKey\"-> Map(\"newName\"-> \"card_key\", \"type\"-> \"string\",\"origin_type\"-> \"str\"), \n",
    "\"value.key.dateKey\"-> Map(\"newName\"-> \"Date\", \"type\"-> \"string\",\"origin_type\"-> \"str\"), \n",
    "\"value.header.cardFlag\"-> Map(\"newName\"-> \"card_flag\", \"type\"-> \"string\",\"origin_type\"-> \"str\"), \n",
    "\"value.lines.salAmtWtax.unscaledAmount\"-> Map(\"newName\"-> \"sal_amt_wtax\", \"type\"-> \"long\",\"origin_type\"-> \"list\"), \n",
    "\"value.header.trxKey\"-> Map(\"newName\"-> \"TransactionKey\", \"type\"-> \"string\",\"origin_type\"-> \"str\"),\n",
    "\"value.lines.salAmtWtax.scale\"->Map(\"newName\"-> \"scale\", \"type\"-> \"inetger\",\"origin_type\"-> \"liste\"),\n",
    "\"value.lines.trxTypeLine\"->Map(\"newName\"-> \"trxTypeLine\", \"type\"-> \"inetger\",\"origin_type\"-> \"liste\"),\n",
    "\"value.lines.salUnitQty\"-> Map(\"newName\"-> \"sal_unit_qty\", \"type\"-> \"double\",\"origin_type\"-> \"liste\"),\n",
    "\"value.lines.salUnitQtyWeight\"-> Map(\"newName\"-> \"salUnitQtyWeight\", \"type\"-> \"double\",\"origin_type\"-> \"liste\")\n",
    ")"
   ]
  },
  {
   "cell_type": "code",
   "execution_count": 92,
   "metadata": {},
   "outputs": [
    {
     "data": {
      "text/plain": [
       "\u001b[32mimport \u001b[36mscala.collection.immutable._\u001b[0m\n",
       "\u001b[36mset_first\u001b[0m: \u001b[32mSet\u001b[0m[\u001b[32mInt\u001b[0m] = \u001b[33mSet\u001b[0m(\u001b[32m1\u001b[0m, \u001b[32m2\u001b[0m)"
      ]
     },
     "metadata": {},
     "output_type": "display_data"
    }
   ],
   "source": [
    "import scala.collection.immutable._\n",
    "val set_first : Set[Int] = Set(1,2,2)\n"
   ]
  },
  {
   "cell_type": "code",
   "execution_count": 15,
   "metadata": {},
   "outputs": [
    {
     "data": {
      "text/plain": [
       "\u001b[36mlist\u001b[0m: \u001b[32mList\u001b[0m[\u001b[32mInt\u001b[0m] = \u001b[33mList\u001b[0m(\n",
       "  \u001b[32m1\u001b[0m,\n",
       "  \u001b[32m2\u001b[0m,\n",
       "  \u001b[32m4\u001b[0m,\n",
       "  \u001b[32m2\u001b[0m,\n",
       "  \u001b[32m4\u001b[0m,\n",
       "  \u001b[32m7\u001b[0m,\n",
       "  \u001b[32m3\u001b[0m,\n",
       "  \u001b[32m2\u001b[0m,\n",
       "  \u001b[32m4\u001b[0m\n",
       ")"
      ]
     },
     "metadata": {},
     "output_type": "display_data"
    }
   ],
   "source": [
    "val list = List(1,2,4,2,4,7,3,2,4)"
   ]
  },
  {
   "cell_type": "code",
   "execution_count": 96,
   "metadata": {},
   "outputs": [
    {
     "data": {
      "text/plain": [
       "\u001b[36mres58\u001b[0m: \u001b[32mList\u001b[0m[(\u001b[32mInt\u001b[0m, \u001b[32mInt\u001b[0m)] = \u001b[33mList\u001b[0m(\n",
       "  \u001b[33m\u001b[0m(\u001b[32m1\u001b[0m, \u001b[32m1\u001b[0m),\n",
       "  \u001b[33m\u001b[0m(\u001b[32m2\u001b[0m, \u001b[32m3\u001b[0m),\n",
       "  \u001b[33m\u001b[0m(\u001b[32m4\u001b[0m, \u001b[32m3\u001b[0m),\n",
       "  \u001b[33m\u001b[0m(\u001b[32m2\u001b[0m, \u001b[32m3\u001b[0m),\n",
       "  \u001b[33m\u001b[0m(\u001b[32m4\u001b[0m, \u001b[32m3\u001b[0m),\n",
       "  \u001b[33m\u001b[0m(\u001b[32m7\u001b[0m, \u001b[32m1\u001b[0m),\n",
       "  \u001b[33m\u001b[0m(\u001b[32m3\u001b[0m, \u001b[32m1\u001b[0m),\n",
       "  \u001b[33m\u001b[0m(\u001b[32m2\u001b[0m, \u001b[32m3\u001b[0m),\n",
       "  \u001b[33m\u001b[0m(\u001b[32m4\u001b[0m, \u001b[32m3\u001b[0m)\n",
       ")"
      ]
     },
     "metadata": {},
     "output_type": "display_data"
    }
   ],
   "source": [
    "list.map(x => (x, list.count(_ == x)))"
   ]
  },
  {
   "cell_type": "code",
   "execution_count": 17,
   "metadata": {},
   "outputs": [
    {
     "data": {
      "text/plain": [
       "\u001b[36mres7\u001b[0m: \u001b[32mMap\u001b[0m[\u001b[32mInt\u001b[0m, \u001b[32mInt\u001b[0m] = \u001b[33mMap\u001b[0m(\n",
       "  \u001b[32m1\u001b[0m -> \u001b[32m1\u001b[0m,\n",
       "  \u001b[32m2\u001b[0m -> \u001b[32m3\u001b[0m,\n",
       "  \u001b[32m7\u001b[0m -> \u001b[32m1\u001b[0m,\n",
       "  \u001b[32m3\u001b[0m -> \u001b[32m1\u001b[0m,\n",
       "  \u001b[32m4\u001b[0m -> \u001b[32m3\u001b[0m\n",
       ")"
      ]
     },
     "metadata": {},
     "output_type": "display_data"
    }
   ],
   "source": [
    "list.groupBy(i=>i).mapValues(_.size)"
   ]
  },
  {
   "cell_type": "code",
   "execution_count": 13,
   "metadata": {},
   "outputs": [
    {
     "ename": "",
     "evalue": "",
     "output_type": "error",
     "traceback": [
      "SyntaxError: found \" @ a::b => I}\", expected (`=>` | `⇒`) in",
      "val flatted_lst : List[Any] = lst.collect{case integers => List(integers) ; case I @ a::b => I}",
      "                                                                                  ^"
     ]
    }
   ],
   "source": [
    "import scala.collection\n",
    "val lst : List[Any] = List(List(1,2,4),3,5)\n",
    "val flatted_lst : List[Any] = lst.collect{case integers => List(integers) ; case I @ a::b => I}"
   ]
  },
  {
   "cell_type": "code",
   "execution_count": 28,
   "metadata": {},
   "outputs": [
    {
     "data": {
      "text/plain": [
       "\u001b[36mfruits\u001b[0m: \u001b[32mList\u001b[0m[\u001b[32mString\u001b[0m] = \u001b[33mList\u001b[0m(\u001b[32m\"apple\"\u001b[0m, \u001b[32m\"banana\"\u001b[0m, \u001b[32m\"orange\"\u001b[0m)\n",
       "\u001b[36mres17_1\u001b[0m: \u001b[32mList\u001b[0m[\u001b[32mChar\u001b[0m] = \u001b[33mList\u001b[0m(\n",
       "  \u001b[32m'a'\u001b[0m,\n",
       "  \u001b[32m'p'\u001b[0m,\n",
       "  \u001b[32m'p'\u001b[0m,\n",
       "  \u001b[32m'l'\u001b[0m,\n",
       "  \u001b[32m'e'\u001b[0m,\n",
       "  \u001b[32m'b'\u001b[0m,\n",
       "  \u001b[32m'a'\u001b[0m,\n",
       "  \u001b[32m'n'\u001b[0m,\n",
       "  \u001b[32m'a'\u001b[0m,\n",
       "  \u001b[32m'n'\u001b[0m,\n",
       "  \u001b[32m'a'\u001b[0m,\n",
       "  \u001b[32m'o'\u001b[0m,\n",
       "  \u001b[32m'r'\u001b[0m,\n",
       "  \u001b[32m'a'\u001b[0m,\n",
       "\u001b[33m...\u001b[0m"
      ]
     },
     "metadata": {},
     "output_type": "display_data"
    }
   ],
   "source": [
    "val fruits = List(\"apple\", \"banana\", \"orange\")\n",
    "fruits.map(x => x.toList).flatten"
   ]
  },
  {
   "cell_type": "code",
   "execution_count": 3,
   "metadata": {},
   "outputs": [
    {
     "data": {
      "text/plain": [
       "defined \u001b[32mfunction \u001b[36msqrtplus1\u001b[0m\n",
       "\u001b[36moutput_sqrtplus1\u001b[0m: \u001b[32mDouble\u001b[0m = \u001b[32m3.0\u001b[0m"
      ]
     },
     "metadata": {},
     "output_type": "display_data"
    }
   ],
   "source": [
    "def sqrtplus1(x: Int) = {\n",
    "  scala.math.sqrt(x) + 1.0\n",
    "}\n",
    "val output_sqrtplus1 : Double = sqrtplus1(4)"
   ]
  },
  {
   "cell_type": "code",
   "execution_count": 13,
   "metadata": {},
   "outputs": [
    {
     "data": {
      "text/plain": [
       "\u001b[36mlst\u001b[0m: \u001b[32mList\u001b[0m[\u001b[32mInt\u001b[0m] = \u001b[33mList\u001b[0m(\u001b[32m1\u001b[0m, \u001b[32m4\u001b[0m, \u001b[32m5\u001b[0m)\n",
       "\u001b[36mres9_1\u001b[0m: \u001b[32mList\u001b[0m[\u001b[32mInt\u001b[0m] = \u001b[33mList\u001b[0m(\u001b[32m40\u001b[0m)"
      ]
     },
     "metadata": {},
     "output_type": "display_data"
    }
   ],
   "source": [
    "// val lst_integers =  List[Int]()\n",
    "val lst = List(1,4,5)\n",
    "// (lst : List[Int]) => lst.map(x => x*x)\n",
    "lst.filter(x => x%2 == 0).map(_*10)"
   ]
  },
  {
   "cell_type": "code",
   "execution_count": 14,
   "metadata": {},
   "outputs": [
    {
     "name": "stdout",
     "output_type": "stream",
     "text": [
      "Hello, yongwej!\r\n"
     ]
    },
    {
     "data": {
      "text/plain": [
       "defined \u001b[32mfunction \u001b[36mname\u001b[0m"
      ]
     },
     "metadata": {},
     "output_type": "display_data"
    }
   ],
   "source": [
    "def name: String = System.getProperty(\"user.name\")\n",
    "println(\"Hello, \" + name + \"!\")"
   ]
  },
  {
   "cell_type": "code",
   "execution_count": 21,
   "metadata": {},
   "outputs": [
    {
     "data": {
      "text/plain": [
       "defined \u001b[32mfunction \u001b[36mgetSquareString\u001b[0m\n",
       "\u001b[36mres15_1\u001b[0m: \u001b[32mAny\u001b[0m = 16.0"
      ]
     },
     "metadata": {},
     "output_type": "display_data"
    }
   ],
   "source": [
    "def getSquareString(input: Double): Any = {\n",
    "  val square = input * input\n",
    "  square.toString\n",
    "}\n",
    "getSquareString(4.0)"
   ]
  },
  {
   "cell_type": "code",
   "execution_count": 22,
   "metadata": {},
   "outputs": [
    {
     "data": {
      "text/plain": [
       "defined \u001b[32mclass \u001b[36mPoint\u001b[0m"
      ]
     },
     "metadata": {},
     "output_type": "display_data"
    }
   ],
   "source": [
    "class Point(var x: Int, var y: Int) {\n",
    "\n",
    "  def move(dx: Int, dy: Int): Unit = {\n",
    "    x = x + dx\n",
    "    y = y + dy\n",
    "  }\n",
    "\n",
    "  override def toString: String =\n",
    "    s\"($x, $y)\"\n",
    "}"
   ]
  },
  {
   "cell_type": "code",
   "execution_count": 24,
   "metadata": {},
   "outputs": [
    {
     "name": "stdout",
     "output_type": "stream",
     "text": [
      "(2, 3)"
     ]
    },
    {
     "data": {
      "text/plain": [
       "\u001b[36mpoint1\u001b[0m: \u001b[32mPoint\u001b[0m = (2, 3)\n",
       "\u001b[36mpoint1_x\u001b[0m: \u001b[32mInt\u001b[0m = \u001b[32m2\u001b[0m"
      ]
     },
     "metadata": {},
     "output_type": "display_data"
    },
    {
     "name": "stdout",
     "output_type": "stream",
     "text": [
      "\r\n"
     ]
    }
   ],
   "source": [
    "val point1 = new Point(2, 3)\n",
    "val point1_x = point1.x  // 2\n",
    "println(point1)  "
   ]
  },
  {
   "cell_type": "code",
   "execution_count": 26,
   "metadata": {},
   "outputs": [
    {
     "name": "stdout",
     "output_type": "stream",
     "text": [
      "1\n",
      "2\n"
     ]
    },
    {
     "data": {
      "text/plain": [
       "defined \u001b[32mclass \u001b[36mPoint\u001b[0m\n",
       "\u001b[36morigin\u001b[0m: \u001b[32m$user\u001b[0m.\u001b[32mPoint\u001b[0m = cmd20$$user$Point@72f08bcb\n",
       "\u001b[36mpoint1\u001b[0m: \u001b[32m$user\u001b[0m.\u001b[32mPoint\u001b[0m = cmd20$$user$Point@36e4dae8\n",
       "\u001b[36mpoint2\u001b[0m: \u001b[32m$user\u001b[0m.\u001b[32mPoint\u001b[0m = cmd20$$user$Point@4197f088"
      ]
     },
     "metadata": {},
     "output_type": "display_data"
    }
   ],
   "source": [
    "class Point(var x: Int = 0, var y: Int = 0)\n",
    "\n",
    "val origin = new Point  // x and y are both set to 0\n",
    "val point1 = new Point(1)\n",
    "println(point1.x)  // prints 1\n",
    "\n",
    "val point2 = new Point(y=2)\n",
    "println(point2.y)  "
   ]
  },
  {
   "cell_type": "code",
   "execution_count": 29,
   "metadata": {},
   "outputs": [
    {
     "name": "stdout",
     "output_type": "stream",
     "text": [
      "Point coordinates Out of bounds\n"
     ]
    },
    {
     "data": {
      "text/plain": [
       "defined \u001b[32mclass \u001b[36mPoint\u001b[0m\n",
       "\u001b[36mpoint1\u001b[0m: \u001b[32m$user\u001b[0m.\u001b[32mPoint\u001b[0m = cmd23$$user$Point@449cbc72"
      ]
     },
     "metadata": {},
     "output_type": "display_data"
    }
   ],
   "source": [
    "class Point {\n",
    "  private var _x = 0\n",
    "  private var _y = 0\n",
    "  private val bound = 100\n",
    "\n",
    "  def x = _x\n",
    "  def x_= (newValue: Int): Unit = {\n",
    "    if (newValue < bound) _x = newValue else printWarning\n",
    "  }\n",
    "\n",
    "  def y = _y\n",
    "  def y_= (newValue: Int): Unit = {\n",
    "    if (newValue < bound) _y = newValue else printWarning\n",
    "  }\n",
    "\n",
    "  private def printWarning = println(\"Point coordinates Out of bounds\")\n",
    "}\n",
    "\n",
    "val point1 = new Point\n",
    "point1.x = 99\n",
    "point1.y = 101 // prints the warning"
   ]
  },
  {
   "cell_type": "code",
   "execution_count": 32,
   "metadata": {},
   "outputs": [
    {
     "data": {
      "text/plain": [
       "defined \u001b[32mclass \u001b[36mPoint\u001b[0m\n",
       "\u001b[36mpoint\u001b[0m: \u001b[32m$user\u001b[0m.\u001b[32mPoint\u001b[0m = cmd25$$user$Point@50c749dc\n",
       "\u001b[36mres25_2\u001b[0m: \u001b[32mInt\u001b[0m = \u001b[32m1\u001b[0m"
      ]
     },
     "metadata": {},
     "output_type": "display_data"
    }
   ],
   "source": [
    "class Point(var x: Int,var y: Int)\n",
    "val point = new Point(1, 2)\n",
    "point.x "
   ]
  },
  {
   "cell_type": "code",
   "execution_count": 37,
   "metadata": {},
   "outputs": [
    {
     "data": {
      "text/plain": [
       "defined \u001b[32mtrait \u001b[36mIterator\u001b[0m\n",
       "defined \u001b[32mclass \u001b[36mIntIterator\u001b[0m\n",
       "\u001b[36miterator\u001b[0m: \u001b[32m$user\u001b[0m.\u001b[32mIntIterator\u001b[0m = cmd30$$user$IntIterator@4140bf1e\n",
       "\u001b[36mres30_3\u001b[0m: \u001b[32mInt\u001b[0m = \u001b[32m0\u001b[0m\n",
       "\u001b[36mres30_4\u001b[0m: \u001b[32mInt\u001b[0m = \u001b[32m1\u001b[0m\n",
       "\u001b[36mres30_5\u001b[0m: \u001b[32mInt\u001b[0m = \u001b[32m2\u001b[0m\n",
       "\u001b[36mres30_6\u001b[0m: \u001b[32mInt\u001b[0m = \u001b[32m3\u001b[0m"
      ]
     },
     "metadata": {},
     "output_type": "display_data"
    }
   ],
   "source": [
    "trait Iterator[A] {\n",
    "  def hasNext: Boolean\n",
    "  def next(): A\n",
    "}\n",
    "\n",
    "class IntIterator(to: Int) extends Iterator[Int] {\n",
    "  private var current = 0\n",
    "  override def hasNext: Boolean = current < to\n",
    "  override def next(): Int =  {\n",
    "    if (hasNext) {\n",
    "      val t = current\n",
    "      current += 1\n",
    "      t\n",
    "    } else 0\n",
    "  }\n",
    "}\n",
    "\n",
    "\n",
    "val iterator = new IntIterator(5)\n",
    "iterator.next()  // returns 0\n",
    "iterator.next()  // returns 1\n",
    "iterator.next()  // returns 0\n",
    "iterator.next()  // returns 1\n"
   ]
  },
  {
   "cell_type": "code",
   "execution_count": 39,
   "metadata": {},
   "outputs": [
    {
     "name": "stdout",
     "output_type": "stream",
     "text": [
      "Harry\n",
      "Sally\n"
     ]
    },
    {
     "data": {
      "text/plain": [
       "\u001b[32mimport \u001b[36mscala.collection.mutable.ArrayBuffer\u001b[0m\n",
       "defined \u001b[32mtrait \u001b[36mPet\u001b[0m\n",
       "defined \u001b[32mclass \u001b[36mCat\u001b[0m\n",
       "defined \u001b[32mclass \u001b[36mDog\u001b[0m\n",
       "\u001b[36mdog\u001b[0m: \u001b[32m$user\u001b[0m.\u001b[32mDog\u001b[0m = cmd32$$user$Dog@57cbc317\n",
       "\u001b[36mcat\u001b[0m: \u001b[32m$user\u001b[0m.\u001b[32mCat\u001b[0m = cmd32$$user$Cat@45154642\n",
       "\u001b[36manimals\u001b[0m: \u001b[32mArrayBuffer\u001b[0m[\u001b[32m$user\u001b[0m.\u001b[32mPet\u001b[0m] = \u001b[33mArrayBuffer\u001b[0m(cmd32$$user$Dog@57cbc317, cmd32$$user$Cat@45154642)"
      ]
     },
     "metadata": {},
     "output_type": "display_data"
    }
   ],
   "source": [
    "import scala.collection.mutable.ArrayBuffer\n",
    "\n",
    "trait Pet {\n",
    "  val name: String\n",
    "}\n",
    "\n",
    "class Cat(val name: String) extends Pet\n",
    "class Dog(val name: String) extends Pet\n",
    "\n",
    "val dog = new Dog(\"Harry\")\n",
    "val cat = new Cat(\"Sally\")\n",
    "\n",
    "val animals = ArrayBuffer.empty[Pet]\n",
    "animals.append(dog)\n",
    "animals.append(cat)\n",
    "animals.foreach(pet => println(pet.name))"
   ]
  },
  {
   "cell_type": "code",
   "execution_count": 42,
   "metadata": {},
   "outputs": [
    {
     "name": "stdout",
     "output_type": "stream",
     "text": [
      "I'm an instance of class B\n",
      "I'M AN INSTANCE OF CLASS B\n"
     ]
    },
    {
     "data": {
      "text/plain": [
       "defined \u001b[32mclass \u001b[36mA\u001b[0m\n",
       "defined \u001b[32mclass \u001b[36mB\u001b[0m\n",
       "defined \u001b[32mtrait \u001b[36mC\u001b[0m\n",
       "defined \u001b[32mclass \u001b[36mD\u001b[0m\n",
       "\u001b[36md\u001b[0m: \u001b[32m$user\u001b[0m.\u001b[32mD\u001b[0m = cmd33$$user$D@440e2f9b"
      ]
     },
     "metadata": {},
     "output_type": "display_data"
    }
   ],
   "source": [
    "abstract class A {\n",
    "  val message: String\n",
    "}\n",
    "class B extends A {\n",
    "  val message = \"I'm an instance of class B\"\n",
    "}\n",
    "trait C extends A {\n",
    "  def loudMessage = message.toUpperCase()\n",
    "}\n",
    "class D extends B with C\n",
    "\n",
    "val d = new D\n",
    "println(d.message)  // I'm an instance of class B\n",
    "println(d.loudMessage)"
   ]
  },
  {
   "cell_type": "code",
   "execution_count": 44,
   "metadata": {},
   "outputs": [
    {
     "data": {
      "text/plain": [
       "\u001b[36msalaries\u001b[0m: \u001b[32mSeq\u001b[0m[\u001b[32mInt\u001b[0m] = \u001b[33mList\u001b[0m(\u001b[32m20000\u001b[0m, \u001b[32m70000\u001b[0m, \u001b[32m40000\u001b[0m)\n",
       "\u001b[36mdoubleSalary\u001b[0m: \u001b[32mInt\u001b[0m => \u001b[32mInt\u001b[0m = <function1>\n",
       "\u001b[36mnewSalaries\u001b[0m: \u001b[32mSeq\u001b[0m[\u001b[32mInt\u001b[0m] = \u001b[33mList\u001b[0m(\u001b[32m40000\u001b[0m, \u001b[32m140000\u001b[0m, \u001b[32m80000\u001b[0m)"
      ]
     },
     "metadata": {},
     "output_type": "display_data"
    }
   ],
   "source": [
    "val salaries = Seq(20000, 70000, 40000)\n",
    "val doubleSalary = (x: Int) => x * 2\n",
    "val newSalaries = salaries.map(doubleSalary) "
   ]
  },
  {
   "cell_type": "code",
   "execution_count": 46,
   "metadata": {},
   "outputs": [
    {
     "data": {
      "text/plain": [
       "\u001b[36msalaries\u001b[0m: \u001b[32mSeq\u001b[0m[\u001b[32mInt\u001b[0m] = \u001b[33mList\u001b[0m(\u001b[32m20000\u001b[0m, \u001b[32m70000\u001b[0m, \u001b[32m40000\u001b[0m)\n",
       "\u001b[36mnewSalaries\u001b[0m: \u001b[32mSeq\u001b[0m[\u001b[32mDouble\u001b[0m] = \u001b[33mList\u001b[0m(\u001b[32m40000.0\u001b[0m, \u001b[32m140000.0\u001b[0m, \u001b[32m80000.0\u001b[0m)\n",
       "\u001b[36mres36_2\u001b[0m: \u001b[32mClass\u001b[0m[\u001b[32m?0\u001b[0m] = class scala.collection.immutable.$colon$colon"
      ]
     },
     "metadata": {},
     "output_type": "display_data"
    }
   ],
   "source": [
    "val salaries = Seq(20000, 70000, 40000)\n",
    "val newSalaries = salaries.map(_ * 2.0)\n",
    "newSalaries.getClass"
   ]
  },
  {
   "cell_type": "code",
   "execution_count": 47,
   "metadata": {},
   "outputs": [
    {
     "data": {
      "text/plain": [
       "defined \u001b[32mobject \u001b[36mSalaryRaiser\u001b[0m"
      ]
     },
     "metadata": {},
     "output_type": "display_data"
    }
   ],
   "source": [
    "object SalaryRaiser {\n",
    "\n",
    "  def smallPromotion(salaries: List[Double]): List[Double] =\n",
    "    salaries.map(salary => salary * 1.1)\n",
    "\n",
    "  def greatPromotion(salaries: List[Double]): List[Double] =\n",
    "    salaries.map(salary => salary * math.log(salary))\n",
    "\n",
    "  def hugePromotion(salaries: List[Double]): List[Double] =\n",
    "    salaries.map(salary => salary * salary)\n",
    "}"
   ]
  },
  {
   "cell_type": "code",
   "execution_count": 48,
   "metadata": {},
   "outputs": [
    {
     "name": "stdout",
     "output_type": "stream",
     "text": [
      "Factorial of 2: 2\n",
      "Factorial of 3: 6\n"
     ]
    },
    {
     "data": {
      "text/plain": [
       "defined \u001b[32mfunction \u001b[36mfactorial\u001b[0m"
      ]
     },
     "metadata": {},
     "output_type": "display_data"
    }
   ],
   "source": [
    " def factorial(x: Int): Int = {\n",
    "    def fact(x: Int, accumulator: Int): Int = {\n",
    "      if (x <= 1) accumulator\n",
    "      else fact(x - 1, x * accumulator)\n",
    "    }  \n",
    "    fact(x, 1)\n",
    " }\n",
    "\n",
    " println(\"Factorial of 2: \" + factorial(2))\n",
    " println(\"Factorial of 3: \" + factorial(3))"
   ]
  },
  {
   "cell_type": "code",
   "execution_count": 25,
   "metadata": {},
   "outputs": [
    {
     "data": {
      "text/plain": [
       "\u001b[36mnumbers\u001b[0m: \u001b[32mList\u001b[0m[\u001b[32mInt\u001b[0m] = \u001b[33mList\u001b[0m(\n",
       "  \u001b[32m1\u001b[0m,\n",
       "  \u001b[32m2\u001b[0m,\n",
       "  \u001b[32m3\u001b[0m,\n",
       "  \u001b[32m4\u001b[0m,\n",
       "  \u001b[32m5\u001b[0m,\n",
       "  \u001b[32m6\u001b[0m,\n",
       "  \u001b[32m7\u001b[0m,\n",
       "  \u001b[32m8\u001b[0m,\n",
       "  \u001b[32m9\u001b[0m,\n",
       "  \u001b[32m10\u001b[0m\n",
       ")\n",
       "\u001b[36mres\u001b[0m: \u001b[32mInt\u001b[0m = \u001b[32m55\u001b[0m"
      ]
     },
     "metadata": {},
     "output_type": "display_data"
    }
   ],
   "source": [
    "val numbers = List(1, 2, 3, 4, 5, 6, 7, 8, 9, 10)\n",
    "val res = numbers.foldLeft(0)((m, n) => m + n)\n",
    "// print(res) // 55"
   ]
  },
  {
   "cell_type": "code",
   "execution_count": 53,
   "metadata": {},
   "outputs": [
    {
     "data": {
      "text/plain": [
       "\u001b[36mres41\u001b[0m: \u001b[32mInt\u001b[0m = \u001b[32m55\u001b[0m"
      ]
     },
     "metadata": {},
     "output_type": "display_data"
    }
   ],
   "source": [
    "numbers.foldLeft(0)(_ + _)"
   ]
  },
  {
   "cell_type": "code",
   "execution_count": 24,
   "metadata": {},
   "outputs": [
    {
     "data": {
      "text/plain": [
       "\u001b[36mnumbers\u001b[0m: \u001b[32mList\u001b[0m[\u001b[32mInt\u001b[0m] = \u001b[33mList\u001b[0m(\n",
       "  \u001b[32m1\u001b[0m,\n",
       "  \u001b[32m2\u001b[0m,\n",
       "  \u001b[32m3\u001b[0m,\n",
       "  \u001b[32m4\u001b[0m,\n",
       "  \u001b[32m5\u001b[0m,\n",
       "  \u001b[32m6\u001b[0m,\n",
       "  \u001b[32m7\u001b[0m,\n",
       "  \u001b[32m8\u001b[0m,\n",
       "  \u001b[32m9\u001b[0m,\n",
       "  \u001b[32m10\u001b[0m\n",
       ")\n",
       "\u001b[36mnumberFunc\u001b[0m: (\u001b[32mList\u001b[0m[\u001b[32mInt\u001b[0m], \u001b[32mInt\u001b[0m) => \u001b[32mList\u001b[0m[\u001b[32mInt\u001b[0m] => \u001b[32mList\u001b[0m[\u001b[32mInt\u001b[0m] = <function1>\n",
       "\u001b[36msquares\u001b[0m: \u001b[32mList\u001b[0m[\u001b[32mInt\u001b[0m] = \u001b[33mList\u001b[0m(\n",
       "  \u001b[32m1\u001b[0m,\n",
       "  \u001b[32m4\u001b[0m,\n",
       "  \u001b[32m9\u001b[0m,\n",
       "  \u001b[32m16\u001b[0m,\n",
       "  \u001b[32m25\u001b[0m,\n",
       "  \u001b[32m36\u001b[0m,\n",
       "  \u001b[32m49\u001b[0m,\n",
       "  \u001b[32m64\u001b[0m,\n",
       "  \u001b[32m81\u001b[0m,\n",
       "  \u001b[32m100\u001b[0m\n",
       ")\n",
       "\u001b[36mcubes\u001b[0m: \u001b[32mList\u001b[0m[\u001b[32mInt\u001b[0m] = \u001b[33mList\u001b[0m(\n",
       "  \u001b[32m1\u001b[0m,\n",
       "  \u001b[32m8\u001b[0m,\n",
       "  \u001b[32m27\u001b[0m,\n",
       "  \u001b[32m64\u001b[0m,\n",
       "  \u001b[32m125\u001b[0m,\n",
       "  \u001b[32m216\u001b[0m,\n",
       "  \u001b[32m343\u001b[0m,\n",
       "  \u001b[32m512\u001b[0m,\n",
       "  \u001b[32m729\u001b[0m,\n",
       "  \u001b[32m1000\u001b[0m\n",
       ")"
      ]
     },
     "metadata": {},
     "output_type": "display_data"
    }
   ],
   "source": [
    "val numbers = List(1, 2, 3, 4, 5, 6, 7, 8, 9, 10)\n",
    "val numberFunc = numbers.foldLeft(List[Int]())_\n",
    "\n",
    "val squares = numberFunc((xs, x) => xs:+ x*x)\n",
    "// print(squares.toString()) // List(1, 4, 9, 16, 25, 36, 49, 64, 81, 100)\n",
    "\n",
    "val cubes = numberFunc((xs, x) => xs:+ x*x*x)\n",
    "// print(cubes.toString())  "
   ]
  },
  {
   "cell_type": "code",
   "execution_count": 55,
   "metadata": {},
   "outputs": [
    {
     "data": {
      "text/plain": [
       "defined \u001b[32mclass \u001b[36mMessage\u001b[0m\n",
       "\u001b[36mmessage2\u001b[0m: \u001b[32m$user\u001b[0m.\u001b[32mMessage\u001b[0m = \u001b[33mMessage\u001b[0m(\u001b[32m\"jorge@catalonia.es\"\u001b[0m, \u001b[32m\"guillaume@quebec.ca\"\u001b[0m, \u001b[32m\"Com va?\"\u001b[0m)\n",
       "\u001b[36mmessage3\u001b[0m: \u001b[32m$user\u001b[0m.\u001b[32mMessage\u001b[0m = \u001b[33mMessage\u001b[0m(\u001b[32m\"jorge@catalonia.es\"\u001b[0m, \u001b[32m\"guillaume@quebec.ca\"\u001b[0m, \u001b[32m\"Com va?\"\u001b[0m)\n",
       "\u001b[36mmessagesAreTheSame\u001b[0m: \u001b[32mBoolean\u001b[0m = true"
      ]
     },
     "metadata": {},
     "output_type": "display_data"
    }
   ],
   "source": [
    "case class Message(sender: String, recipient: String, body: String)\n",
    "\n",
    "val message2 = Message(\"jorge@catalonia.es\", \"guillaume@quebec.ca\", \"Com va?\")\n",
    "val message3 = Message(\"jorge@catalonia.es\", \"guillaume@quebec.ca\", \"Com va?\")\n",
    "val messagesAreTheSame = message2 == message3  // true"
   ]
  },
  {
   "cell_type": "code",
   "execution_count": 56,
   "metadata": {},
   "outputs": [
    {
     "data": {
      "text/plain": [
       "defined \u001b[32mclass \u001b[36mMessage\u001b[0m\n",
       "\u001b[36mmessage4\u001b[0m: \u001b[32m$user\u001b[0m.\u001b[32mMessage\u001b[0m = \u001b[33mMessage\u001b[0m(\n",
       "  \u001b[32m\"julien@bretagne.fr\"\u001b[0m,\n",
       "  \u001b[32m\"travis@washington.us\"\u001b[0m,\n",
       "  \u001b[32m\"Me zo o komz gant ma amezeg\"\u001b[0m\n",
       ")\n",
       "\u001b[36mmessage5\u001b[0m: \u001b[32m$user\u001b[0m.\u001b[32mMessage\u001b[0m = \u001b[33mMessage\u001b[0m(\n",
       "  \u001b[32m\"travis@washington.us\"\u001b[0m,\n",
       "  \u001b[32m\"claire@bourgogne.fr\"\u001b[0m,\n",
       "  \u001b[32m\"Me zo o komz gant ma amezeg\"\u001b[0m\n",
       ")\n",
       "\u001b[36mres44_3\u001b[0m: \u001b[32mString\u001b[0m = \u001b[32m\"travis@washington.us\"\u001b[0m\n",
       "\u001b[36mres44_4\u001b[0m: \u001b[32mString\u001b[0m = \u001b[32m\"claire@bourgogne.fr\"\u001b[0m\n",
       "\u001b[36mres44_5\u001b[0m: \u001b[32mString\u001b[0m = \u001b[32m\"Me zo o komz gant ma amezeg\"\u001b[0m"
      ]
     },
     "metadata": {},
     "output_type": "display_data"
    }
   ],
   "source": [
    "case class Message(sender: String, recipient: String, body: String)\n",
    "val message4 = Message(\"julien@bretagne.fr\", \"travis@washington.us\", \"Me zo o komz gant ma amezeg\")\n",
    "val message5 = message4.copy(sender = message4.recipient, recipient = \"claire@bourgogne.fr\")\n",
    "message5.sender  // travis@washington.us\n",
    "message5.recipient // claire@bourgogne.fr\n",
    "message5.body  // \"Me zo o komz gant ma amezeg\""
   ]
  },
  {
   "cell_type": "code",
   "execution_count": 60,
   "metadata": {},
   "outputs": [
    {
     "data": {
      "text/plain": [
       "\u001b[32mimport \u001b[36mscala.util.Random\u001b[0m\n",
       "\u001b[36mx\u001b[0m: \u001b[32mInt\u001b[0m = \u001b[32m2\u001b[0m\n",
       "\u001b[36mres48_2\u001b[0m: \u001b[32mString\u001b[0m = \u001b[32m\"two\"\u001b[0m"
      ]
     },
     "metadata": {},
     "output_type": "display_data"
    }
   ],
   "source": [
    "import scala.util.Random\n",
    "\n",
    "val x: Int = Random.nextInt(10)\n",
    "\n",
    "x match {\n",
    "  case 0 => \"zero\"\n",
    "  case 1 => \"one\"\n",
    "  case 2 => \"two\"\n",
    "  case _ => \"many\"\n",
    "}"
   ]
  },
  {
   "cell_type": "code",
   "execution_count": 63,
   "metadata": {},
   "outputs": [
    {
     "data": {
      "text/plain": [
       "defined \u001b[32mclass \u001b[36mDevice\u001b[0m\n",
       "defined \u001b[32mclass \u001b[36mPhone\u001b[0m\n",
       "defined \u001b[32mclass \u001b[36mComputer\u001b[0m\n",
       "defined \u001b[32mfunction \u001b[36mgoIdle\u001b[0m"
      ]
     },
     "metadata": {},
     "output_type": "display_data"
    }
   ],
   "source": [
    "abstract class Device\n",
    "case class Phone(model: String) extends Device{\n",
    "  def screenOff = \"Turning screen off\"\n",
    "}\n",
    "case class Computer(model: String) extends Device {\n",
    "  def screenSaverOn = \"Turning screen saver on...\"\n",
    "}\n",
    "\n",
    "def goIdle(device: Device) = device match {\n",
    "  case p: Phone => p.screenOff\n",
    "  case c: Computer => c.screenSaverOn\n",
    "}"
   ]
  },
  {
   "cell_type": "code",
   "execution_count": 64,
   "metadata": {},
   "outputs": [
    {
     "data": {
      "text/plain": [
       "defined \u001b[32mclass \u001b[36mFurniture\u001b[0m\n",
       "defined \u001b[32mclass \u001b[36mCouch\u001b[0m\n",
       "defined \u001b[32mclass \u001b[36mChair\u001b[0m\n",
       "defined \u001b[32mfunction \u001b[36mfindPlaceToSit\u001b[0m"
      ]
     },
     "metadata": {},
     "output_type": "display_data"
    }
   ],
   "source": [
    "sealed abstract class Furniture\n",
    "case class Couch() extends Furniture\n",
    "case class Chair() extends Furniture\n",
    "\n",
    "def findPlaceToSit(piece: Furniture): String = piece match {\n",
    "  case a: Couch => \"Lie on the couch\"\n",
    "  case b: Chair => \"Sit on the chair\"\n",
    "}"
   ]
  },
  {
   "cell_type": "code",
   "execution_count": 66,
   "metadata": {},
   "outputs": [
    {
     "data": {
      "text/plain": [
       "\u001b[32mimport \u001b[36mscala.math._\u001b[0m\n",
       "defined \u001b[32mclass \u001b[36mCircle\u001b[0m\n",
       "defined \u001b[32mobject \u001b[36mCircle\u001b[0m\n",
       "\u001b[36mcircle1\u001b[0m: \u001b[32m$user\u001b[0m.\u001b[32mCircle\u001b[0m = \u001b[33mCircle\u001b[0m(\u001b[32m2.0\u001b[0m)\n",
       "\u001b[36mres52_4\u001b[0m: \u001b[32mDouble\u001b[0m = \u001b[32m12.566370614359172\u001b[0m"
      ]
     },
     "metadata": {},
     "output_type": "display_data"
    }
   ],
   "source": [
    "import scala.math._\n",
    "\n",
    "case class Circle(radius: Double) {\n",
    "  import Circle._\n",
    "  def area: Double = calculateArea(radius)\n",
    "}\n",
    "\n",
    "object Circle {\n",
    "  private def calculateArea(radius: Double): Double = Pi * pow(radius, 2.0)\n",
    "}\n",
    "\n",
    "val circle1 = new Circle(2.0)\n",
    "\n",
    "circle1.area"
   ]
  },
  {
   "cell_type": "code",
   "execution_count": 68,
   "metadata": {},
   "outputs": [
    {
     "name": "stdout",
     "output_type": "stream",
     "text": [
      "Registered an email\n",
      "       |Username: scala.center\n",
      "       |Domain name: epfl.ch\n",
      "     \n"
     ]
    },
    {
     "data": {
      "text/plain": [
       "defined \u001b[32mclass \u001b[36mEmail\u001b[0m\n",
       "defined \u001b[32mobject \u001b[36mEmail\u001b[0m\n",
       "\u001b[36mscalaCenterEmail\u001b[0m: \u001b[32mOption\u001b[0m[\u001b[32m$user\u001b[0m.\u001b[32mEmail\u001b[0m] = Some(cmd54$$user$Email@31a75540)"
      ]
     },
     "metadata": {},
     "output_type": "display_data"
    }
   ],
   "source": [
    "class Email(val username: String, val domainName: String)\n",
    "\n",
    "object Email {\n",
    "  def fromString(emailString: String): Option[Email] = {\n",
    "    emailString.split('@') match {\n",
    "      case Array(a, b) => Some(new Email(a, b))\n",
    "      case _ => None\n",
    "    }\n",
    "  }\n",
    "}\n",
    "\n",
    "val scalaCenterEmail = Email.fromString(\"scala.center@epfl.ch\")\n",
    "scalaCenterEmail match {\n",
    "  case Some(email) => println(\n",
    "    s\"\"\"Registered an email\n",
    "       |Username: ${email.username}\n",
    "       |Domain name: ${email.domainName}\n",
    "     \"\"\")\n",
    "  case None => println(\"Error: could not parse email\")\n",
    "}"
   ]
  },
  {
   "cell_type": "code",
   "execution_count": 70,
   "metadata": {},
   "outputs": [
    {
     "data": {
      "text/plain": [
       "\u001b[32mimport \u001b[36mscala.util.matching.Regex\u001b[0m\n",
       "\u001b[36mnumberPattern\u001b[0m: \u001b[32mutil\u001b[0m.\u001b[32mmatching\u001b[0m.\u001b[32mRegex\u001b[0m = [0-9]"
      ]
     },
     "metadata": {},
     "output_type": "display_data"
    }
   ],
   "source": [
    "import scala.util.matching.Regex\n",
    "val numberPattern: Regex = \"[0-9]\".r"
   ]
  },
  {
   "cell_type": "code",
   "execution_count": 72,
   "metadata": {},
   "outputs": [
    {
     "name": "stdout",
     "output_type": "stream",
     "text": [
      "Password OK\r\n"
     ]
    },
    {
     "data": {
      "text/plain": [
       "\u001b[36mnumberPattern\u001b[0m: \u001b[32mRegex\u001b[0m = [0-9]"
      ]
     },
     "metadata": {},
     "output_type": "display_data"
    }
   ],
   "source": [
    "val numberPattern: Regex = \"[0-9]\".r\n",
    "\n",
    "numberPattern.findFirstMatchIn(\"awesomepassword2\") match {\n",
    "  case Some(_) => println(\"Password OK\")\n",
    "  case None => println(\"Password must contain a number\")\n",
    "}"
   ]
  },
  {
   "cell_type": "code",
   "execution_count": 9,
   "metadata": {},
   "outputs": [
    {
     "data": {
      "text/plain": [
       "defined \u001b[32mobject \u001b[36mfoo\u001b[0m\n",
       "\u001b[36mres4_1\u001b[0m: \u001b[32mInt\u001b[0m = \u001b[32m5\u001b[0m"
      ]
     },
     "metadata": {},
     "output_type": "display_data"
    }
   ],
   "source": [
    "object foo{\n",
    "    var y = 4\n",
    "    def apply(x : Int) : Int = x+y\n",
    "}\n",
    "foo(1)"
   ]
  },
  {
   "cell_type": "code",
   "execution_count": 14,
   "metadata": {},
   "outputs": [
    {
     "ename": "",
     "evalue": "",
     "output_type": "error",
     "traceback": [
      "Compilation Failed",
      "\u001b[31mMain.scala:66: $user.this.foo2.type does not take parameters\r",
      "foo2(5)\r",
      "    ^\u001b[0m",
      "\u001b[31mMain.scala:64: type mismatch;",
      " found   : String",
      " required: Option[String]\r",
      "    if (x > 0) (x*2).toString else None\r",
      "                     ^\u001b[0m"
     ]
    }
   ],
   "source": [
    "// example of an unapply calling"
   ]
  },
  {
   "cell_type": "code",
   "execution_count": 13,
   "metadata": {},
   "outputs": [
    {
     "data": {
      "text/plain": [
       "\u001b[36mres5\u001b[0m: \u001b[32mString\u001b[0m = \u001b[32m\"4\"\u001b[0m"
      ]
     },
     "metadata": {},
     "output_type": "display_data"
    }
   ],
   "source": []
  },
  {
   "cell_type": "code",
   "execution_count": null,
   "metadata": {},
   "outputs": [],
   "source": []
  }
 ],
 "metadata": {
  "kernelspec": {
   "display_name": "Scala 2.11",
   "language": "scala211",
   "name": "scala211"
  },
  "language_info": {
   "codemirror_mode": "text/x-scala",
   "file_extension": ".scala",
   "mimetype": "text/x-scala",
   "name": "scala211",
   "pygments_lexer": "scala",
   "version": "2.11.6"
  }
 },
 "nbformat": 4,
 "nbformat_minor": 2
}
