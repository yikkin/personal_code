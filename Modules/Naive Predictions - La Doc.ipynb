{
 "cells": [
  {
   "cell_type": "markdown",
   "metadata": {},
   "source": [
    "# Documentation - Modèle de prédiction des Appels d'Offres\n",
    "### Hartwood Consulting - Confidentiel\n",
    "\n",
    "\n",
    "Aout 2018\n",
    "\n",
    "***\n",
    "\n",
    "Implementation Python d'un modèle prédictif permettant d'anticiper les Appels d'Offres (AO) des clients grands comptes.\n",
    "\n",
    "**En entrée:**\n",
    "    La totalité des AO reçus \n",
    "    \n",
    "**En sortie:**\n",
    "     Le nombre d'Appels d'Offres prévus pour la (ou les) prochaine(s) période(s)\n",
    "\n",
    "A terme l'objectif étant d'avoir une prédiction fiable, répartie par sous-entité / métier / localisation, pour les 3 prochains mois."
   ]
  },
  {
   "cell_type": "markdown",
   "metadata": {},
   "source": [
    "# Configuration"
   ]
  },
  {
   "cell_type": "markdown",
   "metadata": {},
   "source": [
    "### **Python 3.6.5 - 64 bits**\n",
    "https://www.python.org/downloads/release/python-365/"
   ]
  },
  {
   "cell_type": "markdown",
   "metadata": {},
   "source": [
    "### Environnement de développement / IDE\n",
    "Pycharm Community (plus que) conseillé\n",
    "\n",
    "https://www.jetbrains.com/pycharm/download/\n",
    "\n"
   ]
  },
  {
   "cell_type": "markdown",
   "metadata": {},
   "source": [
    "### VENV - Environement Virtuel"
   ]
  },
  {
   "cell_type": "markdown",
   "metadata": {},
   "source": [
    "VENV pour Virtual Environment\n",
    "\n",
    "> La force de Python est ses milliers de packages, des bibliothèques qu'il suffit d'importer pour bénéficier de fonctions avancées. Pour éviter d'encombrer l'installation de Python de ses paquets, et permettre une meilleure portabilité, il est conseillé de travailler avec des environements virtuels.\n",
    "\n",
    "Je vous conseille de [créer le votre en utilisant Pycharm](https://www.jetbrains.com/help/pycharm/creating-virtual-environment.html)\n",
    "\n",
    "Ensuite, a partir du Terminal, lancez la commande suivante : \n",
    "\n",
    "&rarr;  pip install -r requirements.txt\n",
    "\n",
    "Elle va installer tous les paquets nécessaires au bon fonctionnement du projet. Si tout c'est bien passé, vous êtes parés pour commencer.\n",
    "\n",
    "Pour information, le fichier requirements.txt a été créé grâce à  [pipreqs](https://pypi.org/project/pipreqs/), qui permet d'exporter uniquement les paquets utilisé pour ce projet en question, et non tous les paquets installés dans le VENV.\n",
    "___"
   ]
  },
  {
   "cell_type": "markdown",
   "metadata": {},
   "source": [
    "### Jupyter Notebook"
   ]
  },
  {
   "cell_type": "markdown",
   "metadata": {},
   "source": [
    "**Ce fichier a été créé avec Jupyter Notebook.** Pour le modifier et en reprendre des élements, vous devez installer Jupyter.\n",
    "\n",
    "Plus d'informations ici : http://jupyter.org/install.html\n",
    "\n",
    "\n",
    "&#9658; **Méthode 1 : Avec PIP**\n",
    "\n",
    "Si vous avez déjà configuré votre projet Python avec un VENV, le plus rapide/simple est d'utiliser pip\n",
    "\n",
    "Depuis la console python\n",
    "\n",
    "&rarr; pip install jupyter\n",
    "\n",
    "Puis \n",
    "\n",
    "&rarr; jupyter notebook\n",
    " \n",
    "Cela va ouvrir une page dans votre navigateur, depuis laquelle vous pouvez créer, modifier et executer des Notebooks\n",
    "\n",
    "\n",
    "\n",
    "&#9658; **Méthode 2 : Anaconda Navigator**\n",
    "\n",
    "La deuxième méthode consiste à installer [Anaconda Navigator](https://docs.anaconda.com/anaconda/install/).\n",
    "___"
   ]
  },
  {
   "cell_type": "markdown",
   "metadata": {},
   "source": [
    "### Plotly"
   ]
  },
  {
   "cell_type": "markdown",
   "metadata": {},
   "source": [
    "Il faut juste mettre ses identifiants: username & password, dans un fichier '.credentials' lui même situé dans un dossier '.plotly', dans votre dossier de base (Home Directory)\n",
    "\n",
    "Infos ici: https://plot.ly/python/getting-started/\n",
    "\n",
    "Par exemple, sur l'ordinateur de Mika Rakotomanana, le dossier de base est 'mrakotomanana'\n",
    "\n",
    "* dossier > 'mrakotomanana'<br><t>\n",
    "     * dossier > '.plotly'\n",
    "        * fichier > '.credentials'\n",
    "    \n",
    "Contenu du fichier .credentials\n",
    "\n",
    "{\n",
    "\n",
    "    \"username\": \"mrakotomana\",\n",
    "\n",
    "    \"api_key\": \"H9i9Cx1kWGQHImlMHh7Y\",\n",
    "}\n",
    "\n",
    "***Attention au point (.) au début dans '.plotly' & '.credentials'***\n",
    "\n",
    "***L'username est bien 'mrakotomana'***\n",
    "\n",
    "Pour changer l'api_key et en obtenir une nouvelle, allez ici > https://plot.ly/settings/api"
   ]
  },
  {
   "cell_type": "markdown",
   "metadata": {},
   "source": [
    "![Screenshot montrant le fichier .credentials dans l'explorateur de fichiers](img/plotly_config.png)\n"
   ]
  },
  {
   "cell_type": "markdown",
   "metadata": {},
   "source": [
    "# Vue d'ensemble du travail réalisé"
   ]
  },
  {
   "cell_type": "markdown",
   "metadata": {},
   "source": [
    "4 fichiers...\n",
    "Role de chaque etc \n",
    "\n",
    "Data_Loader\n",
    "\n",
    "Data_Preparation \n",
    "\n",
    "Explication One hot encode et du problème qu'il résoud etc\n",
    "\n",
    "Explication LSTM\n",
    "Pq ce choix, objectif, en quoi elle sont judicieuse pour répondre au problème \n",
    "\n",
    "\n",
    "Présentation des résultats et ouverture sur le bon et sur le moins bon\n",
    "\n",
    "\n",
    "Prise de recul, qu'est ce qu'il y a de bon a garder etc"
   ]
  },
  {
   "cell_type": "markdown",
   "metadata": {},
   "source": [
    "### data_loader.py\n",
    "\n",
    "Fichier dont le but est de charger notre fichier de données, de formatter les cellules qui contiennent des caractères non désirés."
   ]
  },
  {
   "cell_type": "markdown",
   "metadata": {},
   "source": [
    "### data_format_hot_encode.py\n",
    "\n"
   ]
  },
  {
   "cell_type": "markdown",
   "metadata": {},
   "source": [
    "### data_preparation.py\n",
    "\n"
   ]
  },
  {
   "cell_type": "markdown",
   "metadata": {},
   "source": [
    "### lstm_model.py\n",
    "\n",
    "Script qui charge les données en utilisant data_preparation\n",
    "\n",
    "Il initialise ensuite un modèle [Keras Sequential](https://keras.io/models/sequential/), comprenant un layer LSTM et des layers densément connectés (Dense layer). \n",
    "\n",
    "***Le contenu de ce script a été complètement réécrit, amélioré et intégré à la classe TransferLearner.***\n",
    "\n",
    "Les [cellules LSTM](http://colah.github.io/posts/2015-08-Understanding-LSTMs/) sont, par leur nature, très adaptées à la prédiction de Time Series. Leur mémoire interne leur permet de comprendre les tendances de fond. \n",
    "\n",
    "Voir un exemple ici : [Using LSTMs to forecast time-series](https://towardsdatascience.com/using-lstms-to-forecast-time-series-4ab688386b1f)"
   ]
  },
  {
   "cell_type": "markdown",
   "metadata": {},
   "source": [
    "## Transfer Learning \n",
    "\n",
    "***Le problème :*** on s'addresse à un problème avec une Time Series (ou Série Temporelle), soit des données indexée par le temps. Sur le compte Orange, il y en a environ 2400 sur une période de 3 ans. Le problème étant qu'on cherche à prédire le nombre d'appels d'offres sur une période donnée (par mois), il nous faut donc regrouper les données par mois (ou demi-mois/deux semaines). Cela nous donne 37 mois ou 74 périodes de deux semaines. \n",
    "\n",
    "Sans parler du nombre de paramètres, c'est très peu de données pour entrainer un réseaux de neurones, bien que celui-ci soit un très bon candidat comme modèle.\n",
    "\n",
    "***La solution :*** Entrainer le modèle sur un dataset qui ressemble au notre, mais qui est beaucoup plus consistant (plus d'exemples, plus de paramètres). \n",
    "\n",
    "Il suffit ensuite de re-entrainer ce modèle avec notre propre dataset, pour qu'il apprenne les particularité de celui-ci, et voila, on devrait maintenant obtenir de meilleures prédictions.  \n",
    "\n",
    "\n",
    "[Plus d'informations](https://machinelearningmastery.com/transfer-learning-for-deep-learning/) "
   ]
  },
  {
   "cell_type": "markdown",
   "metadata": {},
   "source": [
    "### Les résultats"
   ]
  },
  {
   "cell_type": "markdown",
   "metadata": {},
   "source": [
    "#### Pre Train\n",
    "Le 1er training se déroule sur l'historique du CAC40 depuis Février 1990 (soit 170 mois ou 341 périodes de 2 semaines), 10 fois plus conséquent que notre historique d'Appels d'Offres. \n",
    "Il est composé de 6 features, et on cherche à prédire la dernière : le prix de cloture (Close)\n",
    "\n",
    "Après entrainement, on obtient un [score](https://en.wikipedia.org/wiki/Coefficient_of_determination) qui oscille entre 0.88 et 0.94 (sur 1), donc très prometteur."
   ]
  },
  {
   "cell_type": "code",
   "execution_count": 1,
   "metadata": {
    "scrolled": true
   },
   "outputs": [],
   "source": [
    "import pandas as pd \n",
    "import numpy as np \n",
    "\n",
    "import plotly.plotly as py\n",
    "import plotly.graph_objs as go\n",
    "import plotly.figure_factory as ff\n",
    "import plotly.tools as tls"
   ]
  },
  {
   "cell_type": "code",
   "execution_count": 2,
   "metadata": {},
   "outputs": [
    {
     "name": "stdout",
     "output_type": "stream",
     "text": [
      "Aperçu Dataset CAC40\n"
     ]
    },
    {
     "data": {
      "text/html": [
       "<div>\n",
       "<style scoped>\n",
       "    .dataframe tbody tr th:only-of-type {\n",
       "        vertical-align: middle;\n",
       "    }\n",
       "\n",
       "    .dataframe tbody tr th {\n",
       "        vertical-align: top;\n",
       "    }\n",
       "\n",
       "    .dataframe thead th {\n",
       "        text-align: right;\n",
       "    }\n",
       "</style>\n",
       "<table border=\"1\" class=\"dataframe\">\n",
       "  <thead>\n",
       "    <tr style=\"text-align: right;\">\n",
       "      <th></th>\n",
       "      <th>Open</th>\n",
       "      <th>High</th>\n",
       "      <th>Low</th>\n",
       "      <th>Adj Close</th>\n",
       "      <th>Volume</th>\n",
       "      <th>Close</th>\n",
       "    </tr>\n",
       "    <tr>\n",
       "      <th>Date</th>\n",
       "      <th></th>\n",
       "      <th></th>\n",
       "      <th></th>\n",
       "      <th></th>\n",
       "      <th></th>\n",
       "      <th></th>\n",
       "    </tr>\n",
       "  </thead>\n",
       "  <tbody>\n",
       "    <tr>\n",
       "      <th>1990-02-28</th>\n",
       "      <td>1836.0</td>\n",
       "      <td>1975.0</td>\n",
       "      <td>1827.0</td>\n",
       "      <td>1972.0</td>\n",
       "      <td>0</td>\n",
       "      <td>1972.0</td>\n",
       "    </tr>\n",
       "    <tr>\n",
       "      <th>1990-03-31</th>\n",
       "      <td>1951.0</td>\n",
       "      <td>2141.0</td>\n",
       "      <td>1937.0</td>\n",
       "      <td>2046.0</td>\n",
       "      <td>0</td>\n",
       "      <td>2046.0</td>\n",
       "    </tr>\n",
       "    <tr>\n",
       "      <th>1990-04-30</th>\n",
       "      <td>2056.0</td>\n",
       "      <td>2141.0</td>\n",
       "      <td>2048.0</td>\n",
       "      <td>2107.0</td>\n",
       "      <td>0</td>\n",
       "      <td>2107.0</td>\n",
       "    </tr>\n",
       "    <tr>\n",
       "      <th>1990-05-31</th>\n",
       "      <td>2102.0</td>\n",
       "      <td>2102.0</td>\n",
       "      <td>1972.0</td>\n",
       "      <td>2035.0</td>\n",
       "      <td>0</td>\n",
       "      <td>2035.0</td>\n",
       "    </tr>\n",
       "    <tr>\n",
       "      <th>1990-06-30</th>\n",
       "      <td>2025.0</td>\n",
       "      <td>2046.0</td>\n",
       "      <td>1945.0</td>\n",
       "      <td>1965.0</td>\n",
       "      <td>0</td>\n",
       "      <td>1965.0</td>\n",
       "    </tr>\n",
       "  </tbody>\n",
       "</table>\n",
       "</div>"
      ],
      "text/plain": [
       "              Open    High     Low  Adj Close  Volume   Close\n",
       "Date                                                         \n",
       "1990-02-28  1836.0  1975.0  1827.0     1972.0       0  1972.0\n",
       "1990-03-31  1951.0  2141.0  1937.0     2046.0       0  2046.0\n",
       "1990-04-30  2056.0  2141.0  2048.0     2107.0       0  2107.0\n",
       "1990-05-31  2102.0  2102.0  1972.0     2035.0       0  2035.0\n",
       "1990-06-30  2025.0  2046.0  1945.0     1965.0       0  1965.0"
      ]
     },
     "execution_count": 2,
     "metadata": {},
     "output_type": "execute_result"
    }
   ],
   "source": [
    "df_CAC = pd.read_csv(\"DATA/CAC40_1990.csv\")\n",
    "date_column = \"Date\"\n",
    "\n",
    "df_CAC[date_column] = pd.to_datetime(df_CAC[date_column], dayfirst=False, errors='coerce')\n",
    "df_CAC = df_CAC.set_index(date_column)\n",
    "\n",
    "print(\"Aperçu Dataset CAC40\")\n",
    "df_CAC.head()"
   ]
  },
  {
   "cell_type": "markdown",
   "metadata": {},
   "source": [
    "#### 2eme Training\n",
    "On change ensuite la taille d'entrée du réseaux, pour qu'elle corresponde à notre dataset d'Appels d'Offres (2 features).\n",
    "La colonne AOs est le nombre d'appels d'offres reçus pendant une période, toutes entité et tous métiers confondus.\n",
    "\n",
    "La colonne Ones est un paramètre contenant que des 1. C'est un paramètre artificiel ajouté car l'apprentissage d'un réseau devient très difficile avec un seul paramètre."
   ]
  },
  {
   "cell_type": "code",
   "execution_count": 3,
   "metadata": {},
   "outputs": [
    {
     "name": "stdout",
     "output_type": "stream",
     "text": [
      "Aperçu Dataset Appels d'Offres Orange\n"
     ]
    },
    {
     "data": {
      "text/html": [
       "<div>\n",
       "<style scoped>\n",
       "    .dataframe tbody tr th:only-of-type {\n",
       "        vertical-align: middle;\n",
       "    }\n",
       "\n",
       "    .dataframe tbody tr th {\n",
       "        vertical-align: top;\n",
       "    }\n",
       "\n",
       "    .dataframe thead th {\n",
       "        text-align: right;\n",
       "    }\n",
       "</style>\n",
       "<table border=\"1\" class=\"dataframe\">\n",
       "  <thead>\n",
       "    <tr style=\"text-align: right;\">\n",
       "      <th></th>\n",
       "      <th>Ones</th>\n",
       "      <th>AOs</th>\n",
       "    </tr>\n",
       "    <tr>\n",
       "      <th>Date</th>\n",
       "      <th></th>\n",
       "      <th></th>\n",
       "    </tr>\n",
       "  </thead>\n",
       "  <tbody>\n",
       "    <tr>\n",
       "      <th>2015-03-15</th>\n",
       "      <td>1.0</td>\n",
       "      <td>20.0</td>\n",
       "    </tr>\n",
       "    <tr>\n",
       "      <th>2015-03-31</th>\n",
       "      <td>1.0</td>\n",
       "      <td>21.0</td>\n",
       "    </tr>\n",
       "    <tr>\n",
       "      <th>2015-04-15</th>\n",
       "      <td>1.0</td>\n",
       "      <td>36.0</td>\n",
       "    </tr>\n",
       "    <tr>\n",
       "      <th>2015-04-30</th>\n",
       "      <td>1.0</td>\n",
       "      <td>23.0</td>\n",
       "    </tr>\n",
       "    <tr>\n",
       "      <th>2015-05-15</th>\n",
       "      <td>1.0</td>\n",
       "      <td>17.0</td>\n",
       "    </tr>\n",
       "  </tbody>\n",
       "</table>\n",
       "</div>"
      ],
      "text/plain": [
       "            Ones   AOs\n",
       "Date                  \n",
       "2015-03-15   1.0  20.0\n",
       "2015-03-31   1.0  21.0\n",
       "2015-04-15   1.0  36.0\n",
       "2015-04-30   1.0  23.0\n",
       "2015-05-15   1.0  17.0"
      ]
     },
     "execution_count": 3,
     "metadata": {},
     "output_type": "execute_result"
    }
   ],
   "source": [
    "df_CAC = pd.read_csv(\"DATA/AO_Orange_ones_SemiMonth_2.csv\")\n",
    "date_column = \"Date\"\n",
    "\n",
    "df_CAC[date_column] = pd.to_datetime(df_CAC[date_column], dayfirst=False, errors='coerce')\n",
    "df_CAC = df_CAC.set_index(date_column)\n",
    "\n",
    "print(\"Aperçu Dataset Appels d'Offres Orange\")\n",
    "df_CAC.head()"
   ]
  },
  {
   "cell_type": "markdown",
   "metadata": {},
   "source": [
    "#### Ci dessous, deux graphes montrant les résultats: les prédictions comparées aux vraies valeurs (ils sont issus de 2 entrainements distincts du modèle)."
   ]
  },
  {
   "cell_type": "code",
   "execution_count": 4,
   "metadata": {},
   "outputs": [
    {
     "data": {
      "text/html": [
       "<iframe id=\"igraph\" scrolling=\"no\" style=\"border:none;\" seamless=\"seamless\" src=\"https://plot.ly/~mrakotomana/12.embed\" height=\"525\" width=\"100%\"></iframe>"
      ],
      "text/plain": [
       "<plotly.tools.PlotlyDisplay object>"
      ]
     },
     "execution_count": 4,
     "metadata": {},
     "output_type": "execute_result"
    }
   ],
   "source": [
    "tls.embed(\"https://plot.ly/~mrakotomana/12\")"
   ]
  },
  {
   "cell_type": "code",
   "execution_count": 5,
   "metadata": {
    "collapsed": true
   },
   "outputs": [
    {
     "data": {
      "text/html": [
       "<iframe id=\"igraph\" scrolling=\"no\" style=\"border:none;\" seamless=\"seamless\" src=\"https://plot.ly/~mrakotomana/16.embed\" height=\"525\" width=\"100%\"></iframe>"
      ],
      "text/plain": [
       "<plotly.tools.PlotlyDisplay object>"
      ]
     },
     "execution_count": 5,
     "metadata": {},
     "output_type": "execute_result"
    }
   ],
   "source": [
    "tls.embed(\"https://plot.ly/~mrakotomana/16\")"
   ]
  },
  {
   "cell_type": "markdown",
   "metadata": {},
   "source": [
    "#### &#9658; Les résultats ont l'air prometteurs. Les deux dernières valeurs sont anormalement basses, même pour une période estivale. Le modèle n'a  pas su les anticiper car ce sont des tendances qu'il n'a jamais rencontré auparavant. "
   ]
  },
  {
   "cell_type": "markdown",
   "metadata": {},
   "source": [
    "### Axes d'amélioration"
   ]
  },
  {
   "cell_type": "markdown",
   "metadata": {},
   "source": [
    "En l'état, l'algo permet de prédire de manière fiable les futurs Appels d'Offres de tous les clients grands comptes. Sans plus de détail sur les métiers et les sous-entités concernés, ni sur la localisation.\n",
    "\n",
    "#### Pour aller plus loin \n",
    "- Compléter le dataset : Plus d'exemples, plus de paramètres (si possible non catégoriques) \n",
    "\n",
    "- "
   ]
  },
  {
   "cell_type": "code",
   "execution_count": null,
   "metadata": {},
   "outputs": [],
   "source": []
  },
  {
   "cell_type": "code",
   "execution_count": null,
   "metadata": {},
   "outputs": [],
   "source": []
  },
  {
   "cell_type": "code",
   "execution_count": null,
   "metadata": {},
   "outputs": [],
   "source": []
  }
 ],
 "metadata": {
  "kernelspec": {
   "display_name": "Python 3",
   "language": "python",
   "name": "python3"
  },
  "language_info": {
   "codemirror_mode": {
    "name": "ipython",
    "version": 3
   },
   "file_extension": ".py",
   "mimetype": "text/x-python",
   "name": "python",
   "nbconvert_exporter": "python",
   "pygments_lexer": "ipython3",
   "version": "3.6.4"
  },
  "widgets": {
   "application/vnd.jupyter.widget-state+json": {
    "state": {},
    "version_major": 2,
    "version_minor": 0
   }
  }
 },
 "nbformat": 4,
 "nbformat_minor": 2
}
